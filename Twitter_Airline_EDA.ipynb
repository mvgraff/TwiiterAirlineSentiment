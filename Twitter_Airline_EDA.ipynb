{
 "cells": [
  {
   "cell_type": "code",
   "execution_count": 12,
   "id": "d1d14e42",
   "metadata": {},
   "outputs": [],
   "source": [
    "import pandas as pd\n",
    "import numpy as np\n",
    "import sqlite3"
   ]
  },
  {
   "cell_type": "code",
   "execution_count": 52,
   "id": "b5231f14",
   "metadata": {},
   "outputs": [],
   "source": [
    "import matplotlib as plt\n",
    "import seaborn as sns"
   ]
  },
  {
   "cell_type": "code",
   "execution_count": 14,
   "id": "ea46d964",
   "metadata": {},
   "outputs": [
    {
     "data": {
      "text/html": [
       "<div>\n",
       "<style scoped>\n",
       "    .dataframe tbody tr th:only-of-type {\n",
       "        vertical-align: middle;\n",
       "    }\n",
       "\n",
       "    .dataframe tbody tr th {\n",
       "        vertical-align: top;\n",
       "    }\n",
       "\n",
       "    .dataframe thead th {\n",
       "        text-align: right;\n",
       "    }\n",
       "</style>\n",
       "<table border=\"1\" class=\"dataframe\">\n",
       "  <thead>\n",
       "    <tr style=\"text-align: right;\">\n",
       "      <th></th>\n",
       "      <th>type</th>\n",
       "      <th>name</th>\n",
       "      <th>tbl_name</th>\n",
       "      <th>rootpage</th>\n",
       "      <th>sql</th>\n",
       "    </tr>\n",
       "  </thead>\n",
       "  <tbody>\n",
       "    <tr>\n",
       "      <th>0</th>\n",
       "      <td>table</td>\n",
       "      <td>Tweets</td>\n",
       "      <td>Tweets</td>\n",
       "      <td>2</td>\n",
       "      <td>CREATE TABLE Tweets (\\n    tweet_id INTEGER PR...</td>\n",
       "    </tr>\n",
       "  </tbody>\n",
       "</table>\n",
       "</div>"
      ],
      "text/plain": [
       "    type    name tbl_name  rootpage  \\\n",
       "0  table  Tweets   Tweets         2   \n",
       "\n",
       "                                                 sql  \n",
       "0  CREATE TABLE Tweets (\\n    tweet_id INTEGER PR...  "
      ]
     },
     "execution_count": 14,
     "metadata": {},
     "output_type": "execute_result"
    }
   ],
   "source": [
    "connection = sqlite3.connect('Airlines 2015/database.sqlite')\n",
    "query = \"SELECT * FROM sqlite_master\"\n",
    "db = pd.read_sql_query(sql = query, con = connection)\n",
    "db"
   ]
  },
  {
   "cell_type": "code",
   "execution_count": 19,
   "id": "5901536b",
   "metadata": {},
   "outputs": [
    {
     "name": "stdout",
     "output_type": "stream",
     "text": [
      "<class 'pandas.core.frame.DataFrame'>\n",
      "RangeIndex: 14485 entries, 0 to 14484\n",
      "Data columns (total 4 columns):\n",
      " #   Column          Non-Null Count  Dtype \n",
      "---  ------          --------------  ----- \n",
      " 0   airline         14485 non-null  object\n",
      " 1   text            14485 non-null  object\n",
      " 2   negativereason  14485 non-null  object\n",
      " 3   sentiment       14485 non-null  object\n",
      "dtypes: object(4)\n",
      "memory usage: 452.8+ KB\n"
     ]
    },
    {
     "data": {
      "text/plain": [
       "(14485, 4)"
      ]
     },
     "metadata": {},
     "output_type": "display_data"
    },
    {
     "data": {
      "text/html": [
       "<div>\n",
       "<style scoped>\n",
       "    .dataframe tbody tr th:only-of-type {\n",
       "        vertical-align: middle;\n",
       "    }\n",
       "\n",
       "    .dataframe tbody tr th {\n",
       "        vertical-align: top;\n",
       "    }\n",
       "\n",
       "    .dataframe thead th {\n",
       "        text-align: right;\n",
       "    }\n",
       "</style>\n",
       "<table border=\"1\" class=\"dataframe\">\n",
       "  <thead>\n",
       "    <tr style=\"text-align: right;\">\n",
       "      <th></th>\n",
       "      <th>airline</th>\n",
       "      <th>text</th>\n",
       "      <th>negativereason</th>\n",
       "      <th>sentiment</th>\n",
       "    </tr>\n",
       "  </thead>\n",
       "  <tbody>\n",
       "    <tr>\n",
       "      <th>0</th>\n",
       "      <td>Delta</td>\n",
       "      <td>@JetBlue's new CEO seeks the right balance to ...</td>\n",
       "      <td></td>\n",
       "      <td>neutral</td>\n",
       "    </tr>\n",
       "    <tr>\n",
       "      <th>1</th>\n",
       "      <td>Delta</td>\n",
       "      <td>@JetBlue is REALLY getting on my nerves !! 😡😡 ...</td>\n",
       "      <td>Can't Tell</td>\n",
       "      <td>negative</td>\n",
       "    </tr>\n",
       "    <tr>\n",
       "      <th>2</th>\n",
       "      <td>United</td>\n",
       "      <td>@united yes. We waited in line for almost an h...</td>\n",
       "      <td>Late Flight</td>\n",
       "      <td>negative</td>\n",
       "    </tr>\n",
       "    <tr>\n",
       "      <th>3</th>\n",
       "      <td>United</td>\n",
       "      <td>@united the we got into the gate at IAH on tim...</td>\n",
       "      <td>Late Flight</td>\n",
       "      <td>negative</td>\n",
       "    </tr>\n",
       "    <tr>\n",
       "      <th>4</th>\n",
       "      <td>Southwest</td>\n",
       "      <td>@SouthwestAir its cool that my bags take a bit...</td>\n",
       "      <td>Customer Service Issue</td>\n",
       "      <td>negative</td>\n",
       "    </tr>\n",
       "  </tbody>\n",
       "</table>\n",
       "</div>"
      ],
      "text/plain": [
       "     airline                                               text  \\\n",
       "0      Delta  @JetBlue's new CEO seeks the right balance to ...   \n",
       "1      Delta  @JetBlue is REALLY getting on my nerves !! 😡😡 ...   \n",
       "2     United  @united yes. We waited in line for almost an h...   \n",
       "3     United  @united the we got into the gate at IAH on tim...   \n",
       "4  Southwest  @SouthwestAir its cool that my bags take a bit...   \n",
       "\n",
       "           negativereason sentiment  \n",
       "0                           neutral  \n",
       "1              Can't Tell  negative  \n",
       "2             Late Flight  negative  \n",
       "3             Late Flight  negative  \n",
       "4  Customer Service Issue  negative  "
      ]
     },
     "metadata": {},
     "output_type": "display_data"
    },
    {
     "data": {
      "text/plain": [
       "None"
      ]
     },
     "metadata": {},
     "output_type": "display_data"
    }
   ],
   "source": [
    "query = \"SELECT airline, text, negativereason, airline_sentiment AS sentiment FROM 'Tweets'\"\n",
    "\n",
    "df = pd.read_sql_query(sql = query, con = connection)\n",
    "\n",
    "display(df.shape, df.head(), df.info())"
   ]
  },
  {
   "cell_type": "code",
   "execution_count": 50,
   "id": "a5e26201",
   "metadata": {},
   "outputs": [
    {
     "data": {
      "text/plain": [
       "array(['neutral', 'negative', 'positive'], dtype=object)"
      ]
     },
     "execution_count": 50,
     "metadata": {},
     "output_type": "execute_result"
    }
   ],
   "source": [
    "df.sentiment.unique()"
   ]
  },
  {
   "cell_type": "code",
   "execution_count": 325,
   "id": "6e8ed121",
   "metadata": {},
   "outputs": [],
   "source": [
    "pd.set_option('display.max_rows', 5)"
   ]
  },
  {
   "cell_type": "code",
   "execution_count": null,
   "id": "9c6e55a1",
   "metadata": {},
   "outputs": [],
   "source": []
  },
  {
   "cell_type": "code",
   "execution_count": null,
   "id": "fb7e61e6",
   "metadata": {},
   "outputs": [],
   "source": []
  },
  {
   "cell_type": "markdown",
   "id": "b0825f25",
   "metadata": {},
   "source": [
    "## 14,485 tweets"
   ]
  },
  {
   "cell_type": "code",
   "execution_count": 321,
   "id": "cb2c7c51",
   "metadata": {},
   "outputs": [
    {
     "data": {
      "text/plain": [
       "(14485, 4)"
      ]
     },
     "execution_count": 321,
     "metadata": {},
     "output_type": "execute_result"
    }
   ],
   "source": [
    "df.shape"
   ]
  },
  {
   "cell_type": "markdown",
   "id": "6f792270",
   "metadata": {},
   "source": [
    "## 257,868 non-unique terms"
   ]
  },
  {
   "cell_type": "code",
   "execution_count": 320,
   "id": "e7ae7cc9",
   "metadata": {},
   "outputs": [
    {
     "data": {
      "text/plain": [
       "257868"
      ]
     },
     "execution_count": 320,
     "metadata": {},
     "output_type": "execute_result"
    }
   ],
   "source": [
    "sum([len(d.split(' ')) for d in df['text']])"
   ]
  },
  {
   "cell_type": "code",
   "execution_count": 1480,
   "id": "f42c21c1",
   "metadata": {
    "scrolled": false
   },
   "outputs": [
    {
     "data": {
      "text/html": [
       "<div>\n",
       "<style scoped>\n",
       "    .dataframe tbody tr th:only-of-type {\n",
       "        vertical-align: middle;\n",
       "    }\n",
       "\n",
       "    .dataframe tbody tr th {\n",
       "        vertical-align: top;\n",
       "    }\n",
       "\n",
       "    .dataframe thead th {\n",
       "        text-align: right;\n",
       "    }\n",
       "</style>\n",
       "<table border=\"1\" class=\"dataframe\">\n",
       "  <thead>\n",
       "    <tr style=\"text-align: right;\">\n",
       "      <th></th>\n",
       "      <th>airline</th>\n",
       "      <th>text</th>\n",
       "      <th>negativereason</th>\n",
       "      <th>sentiment</th>\n",
       "    </tr>\n",
       "  </thead>\n",
       "  <tbody>\n",
       "    <tr>\n",
       "      <th>0</th>\n",
       "      <td>Delta</td>\n",
       "      <td>@JetBlue's new CEO seeks the right balance to please passengers and Wall ... - Greenfield Daily Reporter http://t.co/LM3opxkxch</td>\n",
       "      <td></td>\n",
       "      <td>neutral</td>\n",
       "    </tr>\n",
       "    <tr>\n",
       "      <th>1</th>\n",
       "      <td>Delta</td>\n",
       "      <td>@JetBlue is REALLY getting on my nerves !! 😡😡 #nothappy</td>\n",
       "      <td>Can't Tell</td>\n",
       "      <td>negative</td>\n",
       "    </tr>\n",
       "    <tr>\n",
       "      <th>2</th>\n",
       "      <td>United</td>\n",
       "      <td>@united yes. We waited in line for almost an hour to do so. Some passengers just left not wanting to wait past 1am.</td>\n",
       "      <td>Late Flight</td>\n",
       "      <td>negative</td>\n",
       "    </tr>\n",
       "    <tr>\n",
       "      <th>3</th>\n",
       "      <td>United</td>\n",
       "      <td>@united the we got into the gate at IAH on time and have given our seats and closed the flight. If you know people is arriving, have to wait</td>\n",
       "      <td>Late Flight</td>\n",
       "      <td>negative</td>\n",
       "    </tr>\n",
       "    <tr>\n",
       "      <th>4</th>\n",
       "      <td>Southwest</td>\n",
       "      <td>@SouthwestAir its cool that my bags take a bit longer, dont give me baggage blue balls-turn the carousel on, tell me it's coming, then not.</td>\n",
       "      <td>Customer Service Issue</td>\n",
       "      <td>negative</td>\n",
       "    </tr>\n",
       "    <tr>\n",
       "      <th>5</th>\n",
       "      <td>United</td>\n",
       "      <td>@united and don't hope for me having a nicer flight some other time, try to do things right. You sold me those tickets with that connetion</td>\n",
       "      <td>Bad Flight</td>\n",
       "      <td>negative</td>\n",
       "    </tr>\n",
       "    <tr>\n",
       "      <th>6</th>\n",
       "      <td>United</td>\n",
       "      <td>@united I like delays less than you because I'm the one on the plane. Connect me with a voucher</td>\n",
       "      <td>Late Flight</td>\n",
       "      <td>negative</td>\n",
       "    </tr>\n",
       "    <tr>\n",
       "      <th>7</th>\n",
       "      <td>United</td>\n",
       "      <td>@united, link to current status of flights/airports? Fly BWI-EWR-MCO this morning yet can't yet tell what any problems are except see snow.</td>\n",
       "      <td>Customer Service Issue</td>\n",
       "      <td>negative</td>\n",
       "    </tr>\n",
       "    <tr>\n",
       "      <th>8</th>\n",
       "      <td>Southwest</td>\n",
       "      <td>@SouthwestAir you guys there? Are we on hour 2 of our phone hold at 3am bc of volume or short staffing?</td>\n",
       "      <td>Customer Service Issue</td>\n",
       "      <td>negative</td>\n",
       "    </tr>\n",
       "    <tr>\n",
       "      <th>9</th>\n",
       "      <td>United</td>\n",
       "      <td>@united I tried 2 DM it would not go thru... not sure why</td>\n",
       "      <td>Customer Service Issue</td>\n",
       "      <td>negative</td>\n",
       "    </tr>\n",
       "  </tbody>\n",
       "</table>\n",
       "</div>"
      ],
      "text/plain": [
       "     airline  \\\n",
       "0      Delta   \n",
       "1      Delta   \n",
       "2     United   \n",
       "3     United   \n",
       "4  Southwest   \n",
       "5     United   \n",
       "6     United   \n",
       "7     United   \n",
       "8  Southwest   \n",
       "9     United   \n",
       "\n",
       "                                                                                                                                           text  \\\n",
       "0               @JetBlue's new CEO seeks the right balance to please passengers and Wall ... - Greenfield Daily Reporter http://t.co/LM3opxkxch   \n",
       "1                                                                                       @JetBlue is REALLY getting on my nerves !! 😡😡 #nothappy   \n",
       "2                           @united yes. We waited in line for almost an hour to do so. Some passengers just left not wanting to wait past 1am.   \n",
       "3  @united the we got into the gate at IAH on time and have given our seats and closed the flight. If you know people is arriving, have to wait   \n",
       "4   @SouthwestAir its cool that my bags take a bit longer, dont give me baggage blue balls-turn the carousel on, tell me it's coming, then not.   \n",
       "5    @united and don't hope for me having a nicer flight some other time, try to do things right. You sold me those tickets with that connetion   \n",
       "6                                               @united I like delays less than you because I'm the one on the plane. Connect me with a voucher   \n",
       "7   @united, link to current status of flights/airports? Fly BWI-EWR-MCO this morning yet can't yet tell what any problems are except see snow.   \n",
       "8                                       @SouthwestAir you guys there? Are we on hour 2 of our phone hold at 3am bc of volume or short staffing?   \n",
       "9                                                                                     @united I tried 2 DM it would not go thru... not sure why   \n",
       "\n",
       "           negativereason sentiment  \n",
       "0                           neutral  \n",
       "1              Can't Tell  negative  \n",
       "2             Late Flight  negative  \n",
       "3             Late Flight  negative  \n",
       "4  Customer Service Issue  negative  \n",
       "5              Bad Flight  negative  \n",
       "6             Late Flight  negative  \n",
       "7  Customer Service Issue  negative  \n",
       "8  Customer Service Issue  negative  \n",
       "9  Customer Service Issue  negative  "
      ]
     },
     "execution_count": 1480,
     "metadata": {},
     "output_type": "execute_result"
    }
   ],
   "source": [
    "df.head(10)"
   ]
  },
  {
   "cell_type": "code",
   "execution_count": null,
   "id": "8e8bf9a6",
   "metadata": {},
   "outputs": [],
   "source": []
  },
  {
   "cell_type": "code",
   "execution_count": 26,
   "id": "ab02f02e",
   "metadata": {},
   "outputs": [
    {
     "data": {
      "text/plain": [
       "False"
      ]
     },
     "execution_count": 26,
     "metadata": {},
     "output_type": "execute_result"
    }
   ],
   "source": [
    "#No nulls\n",
    "\n",
    "df.negativereason.isnull().values.any()"
   ]
  },
  {
   "cell_type": "code",
   "execution_count": 27,
   "id": "0bf3b770",
   "metadata": {},
   "outputs": [
    {
     "data": {
      "text/plain": [
       "airline           0\n",
       "text              0\n",
       "negativereason    0\n",
       "sentiment         0\n",
       "dtype: int64"
      ]
     },
     "execution_count": 27,
     "metadata": {},
     "output_type": "execute_result"
    }
   ],
   "source": [
    "df.isnull().sum()"
   ]
  },
  {
   "cell_type": "code",
   "execution_count": 29,
   "id": "2252a7f6",
   "metadata": {},
   "outputs": [
    {
     "data": {
      "text/plain": [
       "''"
      ]
     },
     "execution_count": 29,
     "metadata": {},
     "output_type": "execute_result"
    }
   ],
   "source": [
    "df.iloc[0].negativereason\n"
   ]
  },
  {
   "cell_type": "code",
   "execution_count": 51,
   "id": "472ab9e9",
   "metadata": {},
   "outputs": [
    {
     "data": {
      "text/plain": [
       "array(['neutral', 'positive'], dtype=object)"
      ]
     },
     "execution_count": 51,
     "metadata": {},
     "output_type": "execute_result"
    }
   ],
   "source": [
    "\n",
    "df[df['negativereason'] == ''].sentiment.unique()"
   ]
  },
  {
   "cell_type": "code",
   "execution_count": 35,
   "id": "3d4db6e4",
   "metadata": {},
   "outputs": [
    {
     "data": {
      "text/plain": [
       "airline           5403\n",
       "text              5403\n",
       "negativereason    5403\n",
       "sentiment         5403\n",
       "dtype: int64"
      ]
     },
     "execution_count": 35,
     "metadata": {},
     "output_type": "execute_result"
    }
   ],
   "source": [
    "#NEGATIVE REASON has empty strings\n",
    "df[df['negativereason']== ''].count()"
   ]
  },
  {
   "cell_type": "code",
   "execution_count": 38,
   "id": "4a5f284a",
   "metadata": {},
   "outputs": [
    {
     "data": {
      "text/plain": [
       "airline           0\n",
       "text              0\n",
       "negativereason    0\n",
       "sentiment         0\n",
       "dtype: int64"
      ]
     },
     "execution_count": 38,
     "metadata": {},
     "output_type": "execute_result"
    }
   ],
   "source": [
    "df[df['sentiment']== ''].count()"
   ]
  },
  {
   "cell_type": "code",
   "execution_count": 54,
   "id": "2a1b7340",
   "metadata": {},
   "outputs": [
    {
     "data": {
      "text/plain": [
       "array(['Delta', 'United', 'Southwest', 'US Airways', 'Virgin America',\n",
       "       'American'], dtype=object)"
      ]
     },
     "execution_count": 54,
     "metadata": {},
     "output_type": "execute_result"
    }
   ],
   "source": [
    "#6 airlines\n",
    "df.airline.unique()"
   ]
  },
  {
   "cell_type": "markdown",
   "id": "b0c502d0",
   "metadata": {},
   "source": [
    "## Initial plots"
   ]
  },
  {
   "cell_type": "code",
   "execution_count": 69,
   "id": "76f12913",
   "metadata": {
    "scrolled": false
   },
   "outputs": [
    {
     "data": {
      "image/png": "[encoded data removed]",
      "text/plain": [
       "<Figure size 720x432 with 1 Axes>"
      ]
     },
     "metadata": {},
     "output_type": "display_data"
    }
   ],
   "source": [
    "sns.countplot(x='airline', data=df, palette='rocket_r',\n",
    "              order = df['airline'].value_counts().index);\n",
    "\n"
   ]
  },
  {
   "cell_type": "code",
   "execution_count": 342,
   "id": "afefa9c6",
   "metadata": {
    "scrolled": false
   },
   "outputs": [
    {
     "data": {
      "image/png": "[encoded data removed]",
      "text/plain": [
       "<Figure size 720x432 with 1 Axes>"
      ]
     },
     "metadata": {},
     "output_type": "display_data"
    }
   ],
   "source": [
    "#REORDER THE GROUPINGS\n",
    "sns.set(rc={\"figure.figsize\":(10, 6)}) \n",
    "sns.countplot(x='airline', hue='sentiment', data=df, palette='rocket_r', hue_order =['positive', 'neutral', 'negative'],\n",
    "              order = df['airline'].value_counts().index);\n",
    "\n"
   ]
  },
  {
   "cell_type": "markdown",
   "id": "d5848196",
   "metadata": {},
   "source": [
    "## Text preprocessing"
   ]
  },
  {
   "cell_type": "code",
   "execution_count": 72,
   "id": "23ab92a4",
   "metadata": {},
   "outputs": [
    {
     "name": "stderr",
     "output_type": "stream",
     "text": [
      "[nltk_data] Downloading package stopwords to\n",
      "[nltk_data]     /Users/mariyagraff/nltk_data...\n",
      "[nltk_data]   Unzipping corpora/stopwords.zip.\n",
      "[nltk_data] Downloading package punkt to\n",
      "[nltk_data]     /Users/mariyagraff/nltk_data...\n",
      "[nltk_data]   Package punkt is already up-to-date!\n"
     ]
    },
    {
     "data": {
      "text/plain": [
       "True"
      ]
     },
     "execution_count": 72,
     "metadata": {},
     "output_type": "execute_result"
    }
   ],
   "source": [
    "import re\n",
    "import nltk\n",
    "from nltk.corpus import stopwords\n",
    "#nltk.download('stopwords')\n",
    "from nltk.tokenize import word_tokenize\n",
    "#nltk.download('punkt')\n"
   ]
  },
  {
   "cell_type": "code",
   "execution_count": 100,
   "id": "9a8d5f43",
   "metadata": {},
   "outputs": [],
   "source": [
    "import string"
   ]
  },
  {
   "cell_type": "code",
   "execution_count": 1331,
   "id": "ce1b76d3",
   "metadata": {},
   "outputs": [],
   "source": [
    "df2 = df.copy()"
   ]
  },
  {
   "cell_type": "code",
   "execution_count": null,
   "id": "1678f088",
   "metadata": {},
   "outputs": [],
   "source": [
    "# # Using a variable for the top k features to be selected\n",
    "# top_k_features=1000\n",
    "# text_processor = Pipeline([\n",
    "#  ('count vectorizer',CountVectorizer(stop_words=mystopwords,lowercase=True)),\n",
    "#  ('chi2score',SelectKBest(chi2,k=top_k_features)),\n",
    "#  ('tf_transformer',TfidfTransformer(use_idf=True))\n",
    "# ])"
   ]
  },
  {
   "cell_type": "code",
   "execution_count": 1333,
   "id": "35c8343b",
   "metadata": {},
   "outputs": [
    {
     "data": {
      "text/plain": [
       "StringDtype"
      ]
     },
     "execution_count": 1333,
     "metadata": {},
     "output_type": "execute_result"
    }
   ],
   "source": [
    "#convert to strings\n",
    "df2['text_clean'] = df2['text'].astype('string')\n",
    "df2['text_clean'].dtype"
   ]
  },
  {
   "cell_type": "code",
   "execution_count": 1334,
   "id": "ae2007cf",
   "metadata": {},
   "outputs": [],
   "source": [
    "#remove trailing spaces\n",
    "df2['text_clean'] = df2['text_clean'].map(lambda x: x.rstrip())"
   ]
  },
  {
   "cell_type": "code",
   "execution_count": 1033,
   "id": "5214f273",
   "metadata": {},
   "outputs": [],
   "source": [
    "#RETAINING CAPS FOR VEDAR\n",
    "#df2['text_clean'] = df2['text_clean'].map(lambda x: x.lower())"
   ]
  },
  {
   "cell_type": "code",
   "execution_count": 1335,
   "id": "4b08b4db",
   "metadata": {},
   "outputs": [],
   "source": [
    "#remove mentions\n",
    "df2['text_clean'] = df2['text_clean'].map(lambda x: re.sub(\"(@[A-Za-z0-9]+)\",\"\",x))\n"
   ]
  },
  {
   "cell_type": "code",
   "execution_count": 1336,
   "id": "1ee42b84",
   "metadata": {},
   "outputs": [],
   "source": [
    "#remove t.co - twitter's link shortner BEFORE removing punctuation\n",
    "#test5 = 'i love bears t.co/bears'\n",
    "#re.sub(r\"t.co\\S+\",\"\",test5)\n",
    "\n",
    "\n",
    "df2['text_clean'] = df2['text_clean'].map(lambda x: re.sub(r\"t.co\\S+\",\"\",x))\n"
   ]
  },
  {
   "cell_type": "code",
   "execution_count": 1337,
   "id": "1feb34b4",
   "metadata": {},
   "outputs": [],
   "source": [
    "#remove http links\n",
    "\n",
    "df2['text_clean'] = df2['text_clean'].map(lambda x: re.sub(r\"http?s?\\S+\",\" \",x))"
   ]
  },
  {
   "cell_type": "code",
   "execution_count": 1338,
   "id": "bdd4c3e8",
   "metadata": {},
   "outputs": [],
   "source": [
    "#remove www... links\n",
    "# test3 = 'i love bears www.ilovebears.com'\n",
    "# re.sub(r\"www.\\S+\",\"\",test3)\n",
    "\n",
    "df2['text_clean'] = df2['text_clean'].map(lambda x: re.sub(r\"www.\\S+\",\"\",x))"
   ]
  },
  {
   "cell_type": "code",
   "execution_count": 1339,
   "id": "eaf83c59",
   "metadata": {},
   "outputs": [],
   "source": [
    "#removing punctionations BUT keeping contractions just in case\n",
    "punct = string.punctuation\n",
    "punct = punct.replace(\"'\", \"\").replace(\":\", \"\").replace(\"(\", \"\").replace(\")\", \"\").replace(\"!\", \"\")"
   ]
  },
  {
   "cell_type": "code",
   "execution_count": 1340,
   "id": "f797ebb9",
   "metadata": {},
   "outputs": [
    {
     "data": {
      "text/plain": [
       "'\"#$%&*+,-./;<=>?@[\\\\]^_`{|}~'"
      ]
     },
     "execution_count": 1340,
     "metadata": {},
     "output_type": "execute_result"
    }
   ],
   "source": [
    "punct"
   ]
  },
  {
   "cell_type": "code",
   "execution_count": 1341,
   "id": "e11215fa",
   "metadata": {},
   "outputs": [],
   "source": [
    "#also removes contractions???\n",
    "df2['text_clean'] = df2['text_clean'].map(lambda x: re.sub('[%s]' % re.escape(punct), '', x))\n"
   ]
  },
  {
   "cell_type": "code",
   "execution_count": 1342,
   "id": "768236c4",
   "metadata": {},
   "outputs": [],
   "source": [
    "#remove emojis\n",
    "\n",
    "emoji_pattern = re.compile(\"[\"\n",
    "        u\"\\U0001F600-\\U0001F64F\"  # emoticons\n",
    "        u\"\\U0001F300-\\U0001F5FF\"  # symbols & pictographs\n",
    "        u\"\\U0001F680-\\U0001F6FF\"  # transport & map symbols\n",
    "        u\"\\U0001F1E0-\\U0001F1FF\"  # flags (iOS)\n",
    "                           \"]+\", flags=re.UNICODE)\n",
    "\n",
    "df2['text_clean'] = df2['text_clean'].map(lambda x: emoji_pattern.sub(r'', x))\n",
    "\n",
    "#df2.drop(['text-clean'], axis = 1)"
   ]
  },
  {
   "cell_type": "code",
   "execution_count": 1343,
   "id": "630acb47",
   "metadata": {},
   "outputs": [],
   "source": [
    "#remove numbers\n",
    "#test = 'i love 1234bea5r3s'\n",
    "#re.sub(r'\\d+', '', test)\n",
    "\n",
    "df2['text_clean'] = df2['text_clean'].map(lambda x: re.sub(r\"\\d+\",\"\",x))"
   ]
  },
  {
   "cell_type": "code",
   "execution_count": 1344,
   "id": "3f91fec7",
   "metadata": {},
   "outputs": [],
   "source": [
    "#remove new lines\n",
    "df2['text_clean'] = df2['text_clean'].map(lambda x: re.sub(r\"\\n\",\"\",x))"
   ]
  },
  {
   "cell_type": "code",
   "execution_count": 1345,
   "id": "62e71287",
   "metadata": {},
   "outputs": [],
   "source": [
    "#replace hr with hour\n",
    "df2['text_clean'] = df2['text_clean'].map(lambda x: re.sub(r'\\bhr\\b',\"hour\",x))"
   ]
  },
  {
   "cell_type": "code",
   "execution_count": 1346,
   "id": "11edd838",
   "metadata": {},
   "outputs": [],
   "source": [
    "df2['text_clean'] = df2['text_clean'].map(lambda x: re.sub(r'\\bhrs\\b',\"hour\",x))"
   ]
  },
  {
   "cell_type": "code",
   "execution_count": 1316,
   "id": "24ecb45b",
   "metadata": {},
   "outputs": [
    {
     "data": {
      "text/plain": [
       "[]"
      ]
     },
     "execution_count": 1316,
     "metadata": {},
     "output_type": "execute_result"
    }
   ],
   "source": [
    "#HR/HRS HAVE BEEN CONVIRTED TO HOUR\n",
    "#df2['text_clean'].map(lambda x: re.findall(r'flightr',x)).sum()"
   ]
  },
  {
   "cell_type": "code",
   "execution_count": 1347,
   "id": "278b2b29",
   "metadata": {},
   "outputs": [],
   "source": [
    "#replace html special characters\n",
    "replace_words = ['amp', 'quot', 'apos', 'lt', 'gt']\n",
    "\n",
    "def replace_f(text):\n",
    "    for word in replace_words:\n",
    "        if word in text:\n",
    "            text = re.sub(r'(\\b)' + word + r'(\\b)', \"\", text)\n",
    "\n",
    "    return text"
   ]
  },
  {
   "cell_type": "code",
   "execution_count": 1348,
   "id": "ab26e923",
   "metadata": {},
   "outputs": [],
   "source": [
    "df2['text_clean'] = df2['text_clean'].apply(replace_f)"
   ]
  },
  {
   "cell_type": "code",
   "execution_count": 1349,
   "id": "db4ea607",
   "metadata": {},
   "outputs": [],
   "source": [
    "#replace flighted flightled with flight\n",
    "replace_flight = ['flighted', 'flightled', 'flightr']\n",
    "\n",
    "def replace_flight_f(text):\n",
    "    for word in replace_flight:\n",
    "        if word in text:\n",
    "            text = re.sub(word,'flight', text)\n",
    "\n",
    "    return text"
   ]
  },
  {
   "cell_type": "code",
   "execution_count": 1350,
   "id": "92f9afd9",
   "metadata": {},
   "outputs": [],
   "source": [
    "df2['text_clean'] = df2['text_clean'].apply(replace_flight_f)"
   ]
  },
  {
   "cell_type": "code",
   "execution_count": 1351,
   "id": "3bec2843",
   "metadata": {},
   "outputs": [],
   "source": [
    "#replace min with minute\n",
    "df2['text_clean'] = df2['text_clean'].map(lambda x: re.sub(r\"\\bmin\\b\",\"minute\",x))"
   ]
  },
  {
   "cell_type": "code",
   "execution_count": 1352,
   "id": "f4e7afcd",
   "metadata": {},
   "outputs": [],
   "source": [
    "#remove 've'\n",
    "df2['text_clean'] = df2['text_clean'].map(lambda x: re.sub(r'\\bve\\b', '',x))\n"
   ]
  },
  {
   "cell_type": "code",
   "execution_count": 1353,
   "id": "370b4544",
   "metadata": {},
   "outputs": [],
   "source": [
    "#remove ll\n",
    "df2['text_clean'] = df2['text_clean'].map(lambda x: re.sub(r'\\bll\\b', '',x))\n"
   ]
  },
  {
   "cell_type": "code",
   "execution_count": 1354,
   "id": "4fa8936c",
   "metadata": {},
   "outputs": [],
   "source": [
    "#remove any spaces again\n",
    "#re.sub(' +', ' ', test)\n",
    "\n",
    "df2['text_clean'] = df2['text_clean'].map(lambda x: re.sub(\" +\",\" \",x))"
   ]
  },
  {
   "cell_type": "code",
   "execution_count": 1054,
   "id": "8327b0c1",
   "metadata": {},
   "outputs": [
    {
     "data": {
      "text/plain": [
       "array(['Delta', 'United', 'Southwest', 'US Airways', 'Virgin America',\n",
       "       'American'], dtype=object)"
      ]
     },
     "execution_count": 1054,
     "metadata": {},
     "output_type": "execute_result"
    }
   ],
   "source": [
    "df2['airline'].unique()"
   ]
  },
  {
   "cell_type": "code",
   "execution_count": 1355,
   "id": "3869013f",
   "metadata": {},
   "outputs": [],
   "source": [
    "air_words = ['delta', 'united', 'southwest', 'us airways', 'virgin america', 'virgin',\n",
    "       'american', 'american airlines', 'united airlines', 'deltaair', 'flight', 'flights',\n",
    "             'airlines', 'airline', 'air', 'unitedair', 'virginair', 'southwestair',\n",
    "             \"'s\", 'usair', 'ua', 'aa', 'fly']"
   ]
  },
  {
   "cell_type": "markdown",
   "id": "5f5bc923",
   "metadata": {},
   "source": [
    "## Tokenizer"
   ]
  },
  {
   "cell_type": "code",
   "execution_count": 1358,
   "id": "d29464cf",
   "metadata": {},
   "outputs": [],
   "source": [
    "from nltk.tokenize import MWETokenizer"
   ]
  },
  {
   "cell_type": "code",
   "execution_count": 1363,
   "id": "3601171e",
   "metadata": {},
   "outputs": [],
   "source": [
    "mwe_tokenizer = MWETokenizer([(':', ')'), (':', '(')])\n",
    "\n",
    "def clean_stopword(d):\n",
    "    stop_words = stopwords.words('english')\n",
    "    for word in air_words:\n",
    "        stop_words.append(word)\n",
    "    return \" \".join([w for w in d.split() if w not in stop_words])\n",
    "\n",
    "def tokenize(d):\n",
    "    #you/all and of/all/time are terms of their own\n",
    "    return mwe_tokenizer.tokenize(word_tokenize(d))"
   ]
  },
  {
   "cell_type": "code",
   "execution_count": 1364,
   "id": "7899f7bc",
   "metadata": {},
   "outputs": [],
   "source": [
    "#TO DOOOOO\n",
    "df2['text_clean'] = df2['text_clean'].apply(clean_stopword).apply(tokenize)"
   ]
  },
  {
   "cell_type": "code",
   "execution_count": 1365,
   "id": "4a73701c",
   "metadata": {},
   "outputs": [
    {
     "data": {
      "text/html": [
       "<div>\n",
       "<style scoped>\n",
       "    .dataframe tbody tr th:only-of-type {\n",
       "        vertical-align: middle;\n",
       "    }\n",
       "\n",
       "    .dataframe tbody tr th {\n",
       "        vertical-align: top;\n",
       "    }\n",
       "\n",
       "    .dataframe thead th {\n",
       "        text-align: right;\n",
       "    }\n",
       "</style>\n",
       "<table border=\"1\" class=\"dataframe\">\n",
       "  <thead>\n",
       "    <tr style=\"text-align: right;\">\n",
       "      <th></th>\n",
       "      <th>airline</th>\n",
       "      <th>text</th>\n",
       "      <th>negativereason</th>\n",
       "      <th>sentiment</th>\n",
       "      <th>text_clean</th>\n",
       "    </tr>\n",
       "  </thead>\n",
       "  <tbody>\n",
       "    <tr>\n",
       "      <th>0</th>\n",
       "      <td>Delta</td>\n",
       "      <td>@JetBlue's new CEO seeks the right balance to please passengers and Wall ... - Greenfield Daily Reporter http://t.co/LM3opxkxch</td>\n",
       "      <td></td>\n",
       "      <td>neutral</td>\n",
       "      <td>[new, CEO, seeks, right, balance, please, passengers, Wall, Greenfield, Daily, Reporter]</td>\n",
       "    </tr>\n",
       "    <tr>\n",
       "      <th>1</th>\n",
       "      <td>Delta</td>\n",
       "      <td>@JetBlue is REALLY getting on my nerves !! 😡😡 #nothappy</td>\n",
       "      <td>Can't Tell</td>\n",
       "      <td>negative</td>\n",
       "      <td>[REALLY, getting, nerves, !, !, nothappy]</td>\n",
       "    </tr>\n",
       "    <tr>\n",
       "      <th>2</th>\n",
       "      <td>United</td>\n",
       "      <td>@united yes. We waited in line for almost an hour to do so. Some passengers just left not wanting to wait past 1am.</td>\n",
       "      <td>Late Flight</td>\n",
       "      <td>negative</td>\n",
       "      <td>[yes, We, waited, line, almost, hour, Some, passengers, left, wanting, wait, past]</td>\n",
       "    </tr>\n",
       "    <tr>\n",
       "      <th>3</th>\n",
       "      <td>United</td>\n",
       "      <td>@united the we got into the gate at IAH on time and have given our seats and closed the flight. If you know people is arriving, have to wait</td>\n",
       "      <td>Late Flight</td>\n",
       "      <td>negative</td>\n",
       "      <td>[got, gate, IAH, time, given, seats, closed, If, know, people, arriving, wait]</td>\n",
       "    </tr>\n",
       "    <tr>\n",
       "      <th>4</th>\n",
       "      <td>Southwest</td>\n",
       "      <td>@SouthwestAir its cool that my bags take a bit longer, dont give me baggage blue balls-turn the carousel on, tell me it's coming, then not.</td>\n",
       "      <td>Customer Service Issue</td>\n",
       "      <td>negative</td>\n",
       "      <td>[cool, bags, take, bit, longer, dont, give, baggage, blue, ballsturn, carousel, tell, coming]</td>\n",
       "    </tr>\n",
       "    <tr>\n",
       "      <th>...</th>\n",
       "      <td>...</td>\n",
       "      <td>...</td>\n",
       "      <td>...</td>\n",
       "      <td>...</td>\n",
       "      <td>...</td>\n",
       "    </tr>\n",
       "    <tr>\n",
       "      <th>14480</th>\n",
       "      <td>Delta</td>\n",
       "      <td>@JetBlue I hope so because I fly very often and would hate to change airlines.</td>\n",
       "      <td></td>\n",
       "      <td>neutral</td>\n",
       "      <td>[I, hope, I, often, would, hate, change]</td>\n",
       "    </tr>\n",
       "    <tr>\n",
       "      <th>14481</th>\n",
       "      <td>US Airways</td>\n",
       "      <td>@USAirways is a DM possible if you aren't following me?</td>\n",
       "      <td></td>\n",
       "      <td>neutral</td>\n",
       "      <td>[DM, possible, following]</td>\n",
       "    </tr>\n",
       "    <tr>\n",
       "      <th>14482</th>\n",
       "      <td>Delta</td>\n",
       "      <td>@JetBlue Yesterday on my way from EWR to FLL just after take-off. :)\\n#wheelsup #JetBlueSoFly http://t.co/9xkiy0Kq2j</td>\n",
       "      <td></td>\n",
       "      <td>positive</td>\n",
       "      <td>[Yesterday, way, EWR, FLL, takeoff, :_), wheelsup, JetBlueSoFly]</td>\n",
       "    </tr>\n",
       "    <tr>\n",
       "      <th>14483</th>\n",
       "      <td>US Airways</td>\n",
       "      <td>@USAirways and when will one of these agents be available to speak?</td>\n",
       "      <td>Customer Service Issue</td>\n",
       "      <td>negative</td>\n",
       "      <td>[one, agents, available, speak]</td>\n",
       "    </tr>\n",
       "    <tr>\n",
       "      <th>14484</th>\n",
       "      <td>US Airways</td>\n",
       "      <td>@USAirways  is there a better time to call? My flight is on Friday and I need to change it. Worried I may be on hold until then.</td>\n",
       "      <td>Flight Booking Problems</td>\n",
       "      <td>negative</td>\n",
       "      <td>[better, time, call, My, Friday, I, need, change, Worried, I, may, hold]</td>\n",
       "    </tr>\n",
       "  </tbody>\n",
       "</table>\n",
       "<p>14485 rows × 5 columns</p>\n",
       "</div>"
      ],
      "text/plain": [
       "          airline  \\\n",
       "0           Delta   \n",
       "1           Delta   \n",
       "2          United   \n",
       "3          United   \n",
       "4       Southwest   \n",
       "...           ...   \n",
       "14480       Delta   \n",
       "14481  US Airways   \n",
       "14482       Delta   \n",
       "14483  US Airways   \n",
       "14484  US Airways   \n",
       "\n",
       "                                                                                                                                               text  \\\n",
       "0                   @JetBlue's new CEO seeks the right balance to please passengers and Wall ... - Greenfield Daily Reporter http://t.co/LM3opxkxch   \n",
       "1                                                                                           @JetBlue is REALLY getting on my nerves !! 😡😡 #nothappy   \n",
       "2                               @united yes. We waited in line for almost an hour to do so. Some passengers just left not wanting to wait past 1am.   \n",
       "3      @united the we got into the gate at IAH on time and have given our seats and closed the flight. If you know people is arriving, have to wait   \n",
       "4       @SouthwestAir its cool that my bags take a bit longer, dont give me baggage blue balls-turn the carousel on, tell me it's coming, then not.   \n",
       "...                                                                                                                                             ...   \n",
       "14480                                                                @JetBlue I hope so because I fly very often and would hate to change airlines.   \n",
       "14481                                                                                       @USAirways is a DM possible if you aren't following me?   \n",
       "14482                          @JetBlue Yesterday on my way from EWR to FLL just after take-off. :)\\n#wheelsup #JetBlueSoFly http://t.co/9xkiy0Kq2j   \n",
       "14483                                                                           @USAirways and when will one of these agents be available to speak?   \n",
       "14484              @USAirways  is there a better time to call? My flight is on Friday and I need to change it. Worried I may be on hold until then.   \n",
       "\n",
       "                negativereason sentiment  \\\n",
       "0                                neutral   \n",
       "1                   Can't Tell  negative   \n",
       "2                  Late Flight  negative   \n",
       "3                  Late Flight  negative   \n",
       "4       Customer Service Issue  negative   \n",
       "...                        ...       ...   \n",
       "14480                            neutral   \n",
       "14481                            neutral   \n",
       "14482                           positive   \n",
       "14483   Customer Service Issue  negative   \n",
       "14484  Flight Booking Problems  negative   \n",
       "\n",
       "                                                                                          text_clean  \n",
       "0           [new, CEO, seeks, right, balance, please, passengers, Wall, Greenfield, Daily, Reporter]  \n",
       "1                                                          [REALLY, getting, nerves, !, !, nothappy]  \n",
       "2                 [yes, We, waited, line, almost, hour, Some, passengers, left, wanting, wait, past]  \n",
       "3                     [got, gate, IAH, time, given, seats, closed, If, know, people, arriving, wait]  \n",
       "4      [cool, bags, take, bit, longer, dont, give, baggage, blue, ballsturn, carousel, tell, coming]  \n",
       "...                                                                                              ...  \n",
       "14480                                                       [I, hope, I, often, would, hate, change]  \n",
       "14481                                                                      [DM, possible, following]  \n",
       "14482                               [Yesterday, way, EWR, FLL, takeoff, :_), wheelsup, JetBlueSoFly]  \n",
       "14483                                                                [one, agents, available, speak]  \n",
       "14484                       [better, time, call, My, Friday, I, need, change, Worried, I, may, hold]  \n",
       "\n",
       "[14485 rows x 5 columns]"
      ]
     },
     "execution_count": 1365,
     "metadata": {},
     "output_type": "execute_result"
    }
   ],
   "source": [
    "df2"
   ]
  },
  {
   "cell_type": "code",
   "execution_count": null,
   "id": "ea00bf57",
   "metadata": {},
   "outputs": [],
   "source": []
  },
  {
   "cell_type": "code",
   "execution_count": null,
   "id": "4f449efc",
   "metadata": {},
   "outputs": [],
   "source": []
  },
  {
   "cell_type": "code",
   "execution_count": null,
   "id": "8c463116",
   "metadata": {},
   "outputs": [],
   "source": [
    "from spellchecker import SpellChecker\n",
    "spell = SpellChecker()"
   ]
  },
  {
   "cell_type": "code",
   "execution_count": 1015,
   "id": "83d24391",
   "metadata": {},
   "outputs": [
    {
     "data": {
      "text/plain": [
       "['flightr', 'was', 'canceled', 'two', 'hours', 'ago']"
      ]
     },
     "execution_count": 1015,
     "metadata": {},
     "output_type": "execute_result"
    }
   ],
   "source": [
    "text2 = tokenize(text)\n",
    "\n",
    "#[spell.correction(x) for x in text2]"
   ]
  },
  {
   "cell_type": "code",
   "execution_count": 1018,
   "id": "0f40e6ee",
   "metadata": {},
   "outputs": [],
   "source": [
    "test = df2['text_clean_2'].apply(tokenize)"
   ]
  },
  {
   "cell_type": "code",
   "execution_count": 1027,
   "id": "c12d2aa2",
   "metadata": {},
   "outputs": [
    {
     "data": {
      "text/plain": [
       "'flight'"
      ]
     },
     "execution_count": 1027,
     "metadata": {},
     "output_type": "execute_result"
    }
   ],
   "source": [
    "spell.correction('flightr')"
   ]
  },
  {
   "cell_type": "markdown",
   "id": "b75bbacf",
   "metadata": {},
   "source": [
    "## Stemming & Lemmatization"
   ]
  },
  {
   "cell_type": "code",
   "execution_count": 860,
   "id": "405d233a",
   "metadata": {},
   "outputs": [
    {
     "name": "stdout",
     "output_type": "stream",
     "text": [
      "Requirement already satisfied: nltk in /Applications/anaconda3/lib/python3.8/site-packages (3.6.1)\n",
      "Requirement already satisfied: regex in /Applications/anaconda3/lib/python3.8/site-packages (from nltk) (2021.4.4)\n",
      "Requirement already satisfied: click in /Applications/anaconda3/lib/python3.8/site-packages (from nltk) (7.1.2)\n",
      "Requirement already satisfied: tqdm in /Applications/anaconda3/lib/python3.8/site-packages (from nltk) (4.59.0)\n",
      "Requirement already satisfied: joblib in /Applications/anaconda3/lib/python3.8/site-packages (from nltk) (1.0.1)\n"
     ]
    }
   ],
   "source": [
    "!pip install nltk"
   ]
  },
  {
   "cell_type": "code",
   "execution_count": 134,
   "id": "17079874",
   "metadata": {},
   "outputs": [],
   "source": [
    "from nltk.stem import PorterStemmer\n",
    "pst = PorterStemmer()"
   ]
  },
  {
   "cell_type": "code",
   "execution_count": 866,
   "id": "f1e49458",
   "metadata": {},
   "outputs": [
    {
     "name": "stdout",
     "output_type": "stream",
     "text": [
      "showing info https://raw.githubusercontent.com/nltk/nltk_data/gh-pages/index.xml\n"
     ]
    },
    {
     "data": {
      "text/plain": [
       "True"
      ]
     },
     "execution_count": 866,
     "metadata": {},
     "output_type": "execute_result"
    }
   ],
   "source": [
    "import nltk\n",
    "nltk.download()"
   ]
  },
  {
   "cell_type": "code",
   "execution_count": 867,
   "id": "6262d495",
   "metadata": {},
   "outputs": [],
   "source": [
    "from nltk import pos_tag\n",
    "from nltk.chunk import ne_chunk\n",
    "\n",
    "\n",
    "# my_text = 'James Smith lives in the United States'\n",
    "\n",
    "# tokens = pos_tag(word_tokenize(my_text))\n",
    "\n",
    "# entities = ne_chunk(tokens)\n",
    "\n",
    "# entities.draw()\n"
   ]
  },
  {
   "cell_type": "code",
   "execution_count": 872,
   "id": "07c80046",
   "metadata": {},
   "outputs": [
    {
     "name": "stderr",
     "output_type": "stream",
     "text": [
      "[nltk_data] Downloading package maxent_ne_chunker to\n",
      "[nltk_data]     /Users/mariyagraff/nltk_data...\n",
      "[nltk_data]   Unzipping chunkers/maxent_ne_chunker.zip.\n"
     ]
    },
    {
     "data": {
      "text/plain": [
       "True"
      ]
     },
     "execution_count": 872,
     "metadata": {},
     "output_type": "execute_result"
    }
   ],
   "source": [
    "import nltk\n",
    "nltk.download('maxent_ne_chunker')"
   ]
  },
  {
   "cell_type": "code",
   "execution_count": 874,
   "id": "e33bdbf1",
   "metadata": {},
   "outputs": [
    {
     "name": "stderr",
     "output_type": "stream",
     "text": [
      "[nltk_data] Downloading package words to\n",
      "[nltk_data]     /Users/mariyagraff/nltk_data...\n",
      "[nltk_data]   Unzipping corpora/words.zip.\n"
     ]
    },
    {
     "data": {
      "text/plain": [
       "True"
      ]
     },
     "execution_count": 874,
     "metadata": {},
     "output_type": "execute_result"
    }
   ],
   "source": [
    "import nltk\n",
    "nltk.download('words')"
   ]
  },
  {
   "cell_type": "code",
   "execution_count": 870,
   "id": "f81889dd",
   "metadata": {},
   "outputs": [],
   "source": [
    "my_text = 'James Smith lives in the United States'\n",
    "test = pos_tag(word_tokenize(my_text))"
   ]
  },
  {
   "cell_type": "code",
   "execution_count": 137,
   "id": "e6bff8ac",
   "metadata": {},
   "outputs": [],
   "source": [
    "from nltk.stem import WordNetLemmatizer\n",
    "lem = WordNetLemmatizer()"
   ]
  },
  {
   "cell_type": "code",
   "execution_count": 161,
   "id": "ea1fcf64",
   "metadata": {},
   "outputs": [
    {
     "name": "stderr",
     "output_type": "stream",
     "text": [
      "[nltk_data] Downloading package wordnet to\n",
      "[nltk_data]     /Users/mariyagraff/nltk_data...\n",
      "[nltk_data]   Unzipping corpora/wordnet.zip.\n"
     ]
    },
    {
     "data": {
      "text/plain": [
       "True"
      ]
     },
     "execution_count": 161,
     "metadata": {},
     "output_type": "execute_result"
    }
   ],
   "source": [
    "nltk.download('wordnet')"
   ]
  },
  {
   "cell_type": "code",
   "execution_count": 1366,
   "id": "d1c0cfbd",
   "metadata": {},
   "outputs": [],
   "source": [
    "#TO DOOOOO\n",
    "df2['text_clean_2'] = df2['text_clean']"
   ]
  },
  {
   "cell_type": "code",
   "execution_count": 1367,
   "id": "fb73b3fa",
   "metadata": {},
   "outputs": [],
   "source": [
    "#LEMMATIZING (removing plurals)\n",
    "df2['text_clean_2'] = df2['text_clean_2'].apply(lambda x: [lem.lemmatize(y) for y in x])\n"
   ]
  },
  {
   "cell_type": "code",
   "execution_count": 1368,
   "id": "f8dd8d8e",
   "metadata": {},
   "outputs": [],
   "source": [
    "df2['text_clean_2'] = df2['text_clean_2'].apply(lambda x: \" \".join(x))"
   ]
  },
  {
   "cell_type": "code",
   "execution_count": 1369,
   "id": "72f185c5",
   "metadata": {},
   "outputs": [],
   "source": [
    "#replace vega with vegas\n",
    "df2['text_clean_2'] = df2['text_clean_2'].map(lambda x: re.sub(r'\\bvega\\b', 'vegas',x))"
   ]
  },
  {
   "cell_type": "markdown",
   "id": "ed603d60",
   "metadata": {},
   "source": [
    "## Sentiment Analysis for each airline"
   ]
  },
  {
   "cell_type": "code",
   "execution_count": 1371,
   "id": "1c2b6cf0",
   "metadata": {},
   "outputs": [],
   "source": [
    "from vaderSentiment.vaderSentiment import SentimentIntensityAnalyzer"
   ]
  },
  {
   "cell_type": "code",
   "execution_count": 195,
   "id": "2e8f3323",
   "metadata": {},
   "outputs": [],
   "source": []
  },
  {
   "cell_type": "code",
   "execution_count": 1370,
   "id": "84ef98a3",
   "metadata": {},
   "outputs": [],
   "source": [
    "names = df2['airline'].unique().tolist()"
   ]
  },
  {
   "cell_type": "code",
   "execution_count": 1372,
   "id": "7c19077f",
   "metadata": {},
   "outputs": [],
   "source": [
    "#ADDING IMPORTANT WORDS TO ANALYZER"
   ]
  },
  {
   "cell_type": "code",
   "execution_count": null,
   "id": "6c92204b",
   "metadata": {},
   "outputs": [],
   "source": [
    "import nltk\n",
    "nltk.download('vader_lexicon')\n",
    "from nltk.sentiment.vader import SentimentIntensityAnalyzer"
   ]
  },
  {
   "cell_type": "code",
   "execution_count": 1373,
   "id": "b4d9c357",
   "metadata": {},
   "outputs": [],
   "source": [
    "new_values = {\"hour\": -2.0, \"wait\": -2.0, \"waiting\": -2.0, \"nerve\": -1, \"long\": -2,\n",
    "             \"hold\": -2.0, \"refund\": -2.0, \"change\": -1.0, \"late\": -3.0,\n",
    "             \"issue\": -2.0, \"poorly\": -3.0}\n",
    "analyzer = SentimentIntensityAnalyzer()\n",
    "analyzer.lexicon.update(new_values)"
   ]
  },
  {
   "cell_type": "code",
   "execution_count": 1374,
   "id": "b9990bcc",
   "metadata": {},
   "outputs": [
    {
     "name": "stdout",
     "output_type": "stream",
     "text": [
      "-2.0\n"
     ]
    }
   ],
   "source": [
    "print(analyzer.lexicon['hour'])"
   ]
  },
  {
   "cell_type": "code",
   "execution_count": 1375,
   "id": "d7d52e31",
   "metadata": {},
   "outputs": [],
   "source": [
    "def sent_score(names):\n",
    "    for name in names:\n",
    "        df = df2[df2.airline == name]\n",
    "        score = analyzer.polarity_scores(df['text_clean_2'])\n",
    "        print(f'{name}: ', score)\n",
    "        "
   ]
  },
  {
   "cell_type": "code",
   "execution_count": 1377,
   "id": "8bf68523",
   "metadata": {},
   "outputs": [
    {
     "name": "stdout",
     "output_type": "stream",
     "text": [
      "Delta:  {'neg': 0.151, 'neu': 0.643, 'pos': 0.206, 'compound': 1.0}\n",
      "United:  {'neg': 0.218, 'neu': 0.614, 'pos': 0.168, 'compound': -1.0}\n",
      "Southwest:  {'neg': 0.179, 'neu': 0.616, 'pos': 0.205, 'compound': 1.0}\n",
      "US Airways:  {'neg': 0.248, 'neu': 0.608, 'pos': 0.144, 'compound': -1.0}\n",
      "Virgin America:  {'neg': 0.114, 'neu': 0.695, 'pos': 0.191, 'compound': 0.9999}\n",
      "American:  {'neg': 0.225, 'neu': 0.619, 'pos': 0.156, 'compound': -1.0}\n"
     ]
    }
   ],
   "source": [
    "sent_score(names)"
   ]
  },
  {
   "cell_type": "code",
   "execution_count": 1486,
   "id": "8e63b63d",
   "metadata": {},
   "outputs": [],
   "source": [
    "sent_scores_dict = {'airline': ['Delta', 'United', 'Southwest',\n",
    "                                'US Airways', 'Virgin America', 'America'],\n",
    "                    'neg': [0.151, 0.218, 0.179, 0.248, 0.114, 0.225],\n",
    "                   'neu': [0.643, 0.614, 0.616, 0.608, 0.695, 0.619],\n",
    "                   'pos': [0.206, 0.168, 0.205, 0.144, 0.191, 0.156],\n",
    "                   'compound': [1, -1, 1, -1, 0.9999, -1]}"
   ]
  },
  {
   "cell_type": "code",
   "execution_count": 1487,
   "id": "5536ae3a",
   "metadata": {},
   "outputs": [],
   "source": [
    "sent_scores_df = pd.DataFrame(sent_scores_dict)"
   ]
  },
  {
   "cell_type": "code",
   "execution_count": 1580,
   "id": "d9532f07",
   "metadata": {},
   "outputs": [
    {
     "data": {
      "image/png": "[encoded data removed]",
      "text/plain": [
       "<Figure size 720x432 with 1 Axes>"
      ]
     },
     "metadata": {},
     "output_type": "display_data"
    }
   ],
   "source": [
    "#REORDER THE GROUPINGS\n",
    "sns.set(rc={\"figure.figsize\":(10, 6)}) \n",
    "# sns.countplot(x='airline', hue='sentiment', data=df, palette='rocket_r', hue_order =['positive', 'neutral', 'negative'],\n",
    "#               order = df['airline'].value_counts().index);\n",
    "\n",
    "\n",
    "bar_order = sent_scores_df.sort_values('neg', ascending=False)['airline'].tolist()\n",
    "\n",
    "sns.barplot(data = sent_scores_df, x='airline', y='neg', hue='airline',\n",
    "           palette='rocket_r', hue_order = bar_order, order = bar_order,\n",
    "            dodge=False);\n",
    "\n"
   ]
  },
  {
   "cell_type": "markdown",
   "id": "1e3dd10c",
   "metadata": {},
   "source": [
    "### United, US Airways and American have compund scores of -1"
   ]
  },
  {
   "cell_type": "code",
   "execution_count": null,
   "id": "dfed6125",
   "metadata": {},
   "outputs": [],
   "source": []
  },
  {
   "cell_type": "code",
   "execution_count": null,
   "id": "2de89d85",
   "metadata": {},
   "outputs": [],
   "source": [
    "#let's test vader against ground truth\n",
    "\n",
    "# 1. Make sure df2 has the tokenized words and sentiment_df for all\n",
    "# 2. Split into train and test\n",
    "# 3. Sentiment analysis on the train -> add the sentiment_vader column\n",
    "# 4. Vectorize and transform train X, y is sentiment_Vader\n",
    "# 5. Fit a logistic regression\n",
    "# 6. Vectorizer tranform X test, y test is the human input y\n",
    "# 7. Score the best estimator "
   ]
  },
  {
   "cell_type": "code",
   "execution_count": null,
   "id": "4e8cdf12",
   "metadata": {},
   "outputs": [],
   "source": [
    "'''\n",
    "positive sentiment : (compound score >= 0.05) \n",
    "neutral sentiment : (compound score > -0.05) and (compound score < 0.05) \n",
    "negative sentiment : (compound score <= -0.05)\n",
    "'''"
   ]
  },
  {
   "cell_type": "code",
   "execution_count": null,
   "id": "68235da9",
   "metadata": {},
   "outputs": [],
   "source": [
    "#neutral --> 0\n",
    "#negative ---> 1\n",
    "#positive ---> 2"
   ]
  },
  {
   "cell_type": "code",
   "execution_count": 1378,
   "id": "76f6b8b5",
   "metadata": {},
   "outputs": [],
   "source": [
    "def sentiment_filter(df2):\n",
    "    dct_df = {'sentiment_vader': [], 'score': []}\n",
    "\n",
    "    for index,row in df2.iterrows():\n",
    "        score = analyzer.polarity_scores(row['text_clean_2'])\n",
    "        if score['compound'] <= -0.05:\n",
    "            dct_df['sentiment_vader'].append(1)\n",
    "            dct_df['score'].append(score['compound'])\n",
    "            \n",
    "        elif score['compound'] >= 0.05:\n",
    "            dct_df['sentiment_vader'].append(2)\n",
    "            dct_df['score'].append(score['compound'])\n",
    "            \n",
    "        else:\n",
    "            dct_df['sentiment_vader'].append(0)\n",
    "            dct_df['score'].append(score['compound'])\n",
    "          \n",
    "    df = pd.DataFrame(dct_df)\n",
    "    \n",
    "    return df"
   ]
  },
  {
   "cell_type": "code",
   "execution_count": 1379,
   "id": "e4be37d8",
   "metadata": {},
   "outputs": [],
   "source": [
    "df_vader = sentiment_filter(df2)"
   ]
  },
  {
   "cell_type": "code",
   "execution_count": 1380,
   "id": "7cfd8cff",
   "metadata": {},
   "outputs": [
    {
     "data": {
      "text/html": [
       "<div>\n",
       "<style scoped>\n",
       "    .dataframe tbody tr th:only-of-type {\n",
       "        vertical-align: middle;\n",
       "    }\n",
       "\n",
       "    .dataframe tbody tr th {\n",
       "        vertical-align: top;\n",
       "    }\n",
       "\n",
       "    .dataframe thead th {\n",
       "        text-align: right;\n",
       "    }\n",
       "</style>\n",
       "<table border=\"1\" class=\"dataframe\">\n",
       "  <thead>\n",
       "    <tr style=\"text-align: right;\">\n",
       "      <th></th>\n",
       "      <th>sentiment_vader</th>\n",
       "      <th>score</th>\n",
       "    </tr>\n",
       "  </thead>\n",
       "  <tbody>\n",
       "    <tr>\n",
       "      <th>0</th>\n",
       "      <td>2</td>\n",
       "      <td>0.3182</td>\n",
       "    </tr>\n",
       "    <tr>\n",
       "      <th>1</th>\n",
       "      <td>1</td>\n",
       "      <td>-0.5512</td>\n",
       "    </tr>\n",
       "    <tr>\n",
       "      <th>2</th>\n",
       "      <td>1</td>\n",
       "      <td>-0.4601</td>\n",
       "    </tr>\n",
       "    <tr>\n",
       "      <th>3</th>\n",
       "      <td>1</td>\n",
       "      <td>-0.4588</td>\n",
       "    </tr>\n",
       "    <tr>\n",
       "      <th>4</th>\n",
       "      <td>2</td>\n",
       "      <td>0.3182</td>\n",
       "    </tr>\n",
       "    <tr>\n",
       "      <th>...</th>\n",
       "      <td>...</td>\n",
       "      <td>...</td>\n",
       "    </tr>\n",
       "    <tr>\n",
       "      <th>14480</th>\n",
       "      <td>1</td>\n",
       "      <td>-0.4215</td>\n",
       "    </tr>\n",
       "    <tr>\n",
       "      <th>14481</th>\n",
       "      <td>0</td>\n",
       "      <td>0.0000</td>\n",
       "    </tr>\n",
       "    <tr>\n",
       "      <th>14482</th>\n",
       "      <td>0</td>\n",
       "      <td>0.0000</td>\n",
       "    </tr>\n",
       "    <tr>\n",
       "      <th>14483</th>\n",
       "      <td>0</td>\n",
       "      <td>0.0000</td>\n",
       "    </tr>\n",
       "    <tr>\n",
       "      <th>14484</th>\n",
       "      <td>1</td>\n",
       "      <td>-0.5106</td>\n",
       "    </tr>\n",
       "  </tbody>\n",
       "</table>\n",
       "<p>14485 rows × 2 columns</p>\n",
       "</div>"
      ],
      "text/plain": [
       "       sentiment_vader   score\n",
       "0                    2  0.3182\n",
       "1                    1 -0.5512\n",
       "2                    1 -0.4601\n",
       "3                    1 -0.4588\n",
       "4                    2  0.3182\n",
       "...                ...     ...\n",
       "14480                1 -0.4215\n",
       "14481                0  0.0000\n",
       "14482                0  0.0000\n",
       "14483                0  0.0000\n",
       "14484                1 -0.5106\n",
       "\n",
       "[14485 rows x 2 columns]"
      ]
     },
     "execution_count": 1380,
     "metadata": {},
     "output_type": "execute_result"
    }
   ],
   "source": [
    "df_vader"
   ]
  },
  {
   "cell_type": "code",
   "execution_count": 1381,
   "id": "fa2aa94e",
   "metadata": {},
   "outputs": [],
   "source": [
    "df3 = df2"
   ]
  },
  {
   "cell_type": "code",
   "execution_count": 1382,
   "id": "83666c70",
   "metadata": {},
   "outputs": [],
   "source": [
    "df4 = df3.join(df_vader)"
   ]
  },
  {
   "cell_type": "code",
   "execution_count": 1383,
   "id": "99b6823a",
   "metadata": {},
   "outputs": [
    {
     "data": {
      "text/plain": [
       "(14485, 8)"
      ]
     },
     "execution_count": 1383,
     "metadata": {},
     "output_type": "execute_result"
    }
   ],
   "source": [
    "df4.shape"
   ]
  },
  {
   "cell_type": "code",
   "execution_count": 1385,
   "id": "292988de",
   "metadata": {},
   "outputs": [
    {
     "data": {
      "text/html": [
       "<div>\n",
       "<style scoped>\n",
       "    .dataframe tbody tr th:only-of-type {\n",
       "        vertical-align: middle;\n",
       "    }\n",
       "\n",
       "    .dataframe tbody tr th {\n",
       "        vertical-align: top;\n",
       "    }\n",
       "\n",
       "    .dataframe thead th {\n",
       "        text-align: right;\n",
       "    }\n",
       "</style>\n",
       "<table border=\"1\" class=\"dataframe\">\n",
       "  <thead>\n",
       "    <tr style=\"text-align: right;\">\n",
       "      <th></th>\n",
       "      <th>airline</th>\n",
       "      <th>text</th>\n",
       "      <th>negativereason</th>\n",
       "      <th>sentiment</th>\n",
       "      <th>text_clean</th>\n",
       "      <th>text_clean_2</th>\n",
       "      <th>sentiment_vader</th>\n",
       "      <th>score</th>\n",
       "    </tr>\n",
       "  </thead>\n",
       "  <tbody>\n",
       "    <tr>\n",
       "      <th>0</th>\n",
       "      <td>Delta</td>\n",
       "      <td>@JetBlue's new CEO seeks the right balance to please passengers and Wall ... - Greenfield Daily Reporter http://t.co/LM3opxkxch</td>\n",
       "      <td></td>\n",
       "      <td>0</td>\n",
       "      <td>[new, CEO, seeks, right, balance, please, passengers, Wall, Greenfield, Daily, Reporter]</td>\n",
       "      <td>new CEO seek right balance please passenger Wall Greenfield Daily Reporter</td>\n",
       "      <td>2</td>\n",
       "      <td>0.3182</td>\n",
       "    </tr>\n",
       "    <tr>\n",
       "      <th>1</th>\n",
       "      <td>Delta</td>\n",
       "      <td>@JetBlue is REALLY getting on my nerves !! 😡😡 #nothappy</td>\n",
       "      <td>Can't Tell</td>\n",
       "      <td>1</td>\n",
       "      <td>[REALLY, getting, nerves, !, !, nothappy]</td>\n",
       "      <td>REALLY getting nerve ! ! nothappy</td>\n",
       "      <td>1</td>\n",
       "      <td>-0.5512</td>\n",
       "    </tr>\n",
       "    <tr>\n",
       "      <th>2</th>\n",
       "      <td>United</td>\n",
       "      <td>@united yes. We waited in line for almost an hour to do so. Some passengers just left not wanting to wait past 1am.</td>\n",
       "      <td>Late Flight</td>\n",
       "      <td>1</td>\n",
       "      <td>[yes, We, waited, line, almost, hour, Some, passengers, left, wanting, wait, past]</td>\n",
       "      <td>yes We waited line almost hour Some passenger left wanting wait past</td>\n",
       "      <td>1</td>\n",
       "      <td>-0.4601</td>\n",
       "    </tr>\n",
       "    <tr>\n",
       "      <th>3</th>\n",
       "      <td>United</td>\n",
       "      <td>@united the we got into the gate at IAH on time and have given our seats and closed the flight. If you know people is arriving, have to wait</td>\n",
       "      <td>Late Flight</td>\n",
       "      <td>1</td>\n",
       "      <td>[got, gate, IAH, time, given, seats, closed, If, know, people, arriving, wait]</td>\n",
       "      <td>got gate IAH time given seat closed If know people arriving wait</td>\n",
       "      <td>1</td>\n",
       "      <td>-0.4588</td>\n",
       "    </tr>\n",
       "    <tr>\n",
       "      <th>4</th>\n",
       "      <td>Southwest</td>\n",
       "      <td>@SouthwestAir its cool that my bags take a bit longer, dont give me baggage blue balls-turn the carousel on, tell me it's coming, then not.</td>\n",
       "      <td>Customer Service Issue</td>\n",
       "      <td>1</td>\n",
       "      <td>[cool, bags, take, bit, longer, dont, give, baggage, blue, ballsturn, carousel, tell, coming]</td>\n",
       "      <td>cool bag take bit longer dont give baggage blue ballsturn carousel tell coming</td>\n",
       "      <td>2</td>\n",
       "      <td>0.3182</td>\n",
       "    </tr>\n",
       "    <tr>\n",
       "      <th>...</th>\n",
       "      <td>...</td>\n",
       "      <td>...</td>\n",
       "      <td>...</td>\n",
       "      <td>...</td>\n",
       "      <td>...</td>\n",
       "      <td>...</td>\n",
       "      <td>...</td>\n",
       "      <td>...</td>\n",
       "    </tr>\n",
       "    <tr>\n",
       "      <th>14480</th>\n",
       "      <td>Delta</td>\n",
       "      <td>@JetBlue I hope so because I fly very often and would hate to change airlines.</td>\n",
       "      <td></td>\n",
       "      <td>0</td>\n",
       "      <td>[I, hope, I, often, would, hate, change]</td>\n",
       "      <td>I hope I often would hate change</td>\n",
       "      <td>1</td>\n",
       "      <td>-0.4215</td>\n",
       "    </tr>\n",
       "    <tr>\n",
       "      <th>14481</th>\n",
       "      <td>US Airways</td>\n",
       "      <td>@USAirways is a DM possible if you aren't following me?</td>\n",
       "      <td></td>\n",
       "      <td>0</td>\n",
       "      <td>[DM, possible, following]</td>\n",
       "      <td>DM possible following</td>\n",
       "      <td>0</td>\n",
       "      <td>0.0000</td>\n",
       "    </tr>\n",
       "    <tr>\n",
       "      <th>14482</th>\n",
       "      <td>Delta</td>\n",
       "      <td>@JetBlue Yesterday on my way from EWR to FLL just after take-off. :)\\n#wheelsup #JetBlueSoFly http://t.co/9xkiy0Kq2j</td>\n",
       "      <td></td>\n",
       "      <td>2</td>\n",
       "      <td>[Yesterday, way, EWR, FLL, takeoff, :_), wheelsup, JetBlueSoFly]</td>\n",
       "      <td>Yesterday way EWR FLL takeoff :_) wheelsup JetBlueSoFly</td>\n",
       "      <td>0</td>\n",
       "      <td>0.0000</td>\n",
       "    </tr>\n",
       "    <tr>\n",
       "      <th>14483</th>\n",
       "      <td>US Airways</td>\n",
       "      <td>@USAirways and when will one of these agents be available to speak?</td>\n",
       "      <td>Customer Service Issue</td>\n",
       "      <td>1</td>\n",
       "      <td>[one, agents, available, speak]</td>\n",
       "      <td>one agent available speak</td>\n",
       "      <td>0</td>\n",
       "      <td>0.0000</td>\n",
       "    </tr>\n",
       "    <tr>\n",
       "      <th>14484</th>\n",
       "      <td>US Airways</td>\n",
       "      <td>@USAirways  is there a better time to call? My flight is on Friday and I need to change it. Worried I may be on hold until then.</td>\n",
       "      <td>Flight Booking Problems</td>\n",
       "      <td>1</td>\n",
       "      <td>[better, time, call, My, Friday, I, need, change, Worried, I, may, hold]</td>\n",
       "      <td>better time call My Friday I need change Worried I may hold</td>\n",
       "      <td>1</td>\n",
       "      <td>-0.5106</td>\n",
       "    </tr>\n",
       "  </tbody>\n",
       "</table>\n",
       "<p>14485 rows × 8 columns</p>\n",
       "</div>"
      ],
      "text/plain": [
       "          airline  \\\n",
       "0           Delta   \n",
       "1           Delta   \n",
       "2          United   \n",
       "3          United   \n",
       "4       Southwest   \n",
       "...           ...   \n",
       "14480       Delta   \n",
       "14481  US Airways   \n",
       "14482       Delta   \n",
       "14483  US Airways   \n",
       "14484  US Airways   \n",
       "\n",
       "                                                                                                                                               text  \\\n",
       "0                   @JetBlue's new CEO seeks the right balance to please passengers and Wall ... - Greenfield Daily Reporter http://t.co/LM3opxkxch   \n",
       "1                                                                                           @JetBlue is REALLY getting on my nerves !! 😡😡 #nothappy   \n",
       "2                               @united yes. We waited in line for almost an hour to do so. Some passengers just left not wanting to wait past 1am.   \n",
       "3      @united the we got into the gate at IAH on time and have given our seats and closed the flight. If you know people is arriving, have to wait   \n",
       "4       @SouthwestAir its cool that my bags take a bit longer, dont give me baggage blue balls-turn the carousel on, tell me it's coming, then not.   \n",
       "...                                                                                                                                             ...   \n",
       "14480                                                                @JetBlue I hope so because I fly very often and would hate to change airlines.   \n",
       "14481                                                                                       @USAirways is a DM possible if you aren't following me?   \n",
       "14482                          @JetBlue Yesterday on my way from EWR to FLL just after take-off. :)\\n#wheelsup #JetBlueSoFly http://t.co/9xkiy0Kq2j   \n",
       "14483                                                                           @USAirways and when will one of these agents be available to speak?   \n",
       "14484              @USAirways  is there a better time to call? My flight is on Friday and I need to change it. Worried I may be on hold until then.   \n",
       "\n",
       "                negativereason  sentiment  \\\n",
       "0                                       0   \n",
       "1                   Can't Tell          1   \n",
       "2                  Late Flight          1   \n",
       "3                  Late Flight          1   \n",
       "4       Customer Service Issue          1   \n",
       "...                        ...        ...   \n",
       "14480                                   0   \n",
       "14481                                   0   \n",
       "14482                                   2   \n",
       "14483   Customer Service Issue          1   \n",
       "14484  Flight Booking Problems          1   \n",
       "\n",
       "                                                                                          text_clean  \\\n",
       "0           [new, CEO, seeks, right, balance, please, passengers, Wall, Greenfield, Daily, Reporter]   \n",
       "1                                                          [REALLY, getting, nerves, !, !, nothappy]   \n",
       "2                 [yes, We, waited, line, almost, hour, Some, passengers, left, wanting, wait, past]   \n",
       "3                     [got, gate, IAH, time, given, seats, closed, If, know, people, arriving, wait]   \n",
       "4      [cool, bags, take, bit, longer, dont, give, baggage, blue, ballsturn, carousel, tell, coming]   \n",
       "...                                                                                              ...   \n",
       "14480                                                       [I, hope, I, often, would, hate, change]   \n",
       "14481                                                                      [DM, possible, following]   \n",
       "14482                               [Yesterday, way, EWR, FLL, takeoff, :_), wheelsup, JetBlueSoFly]   \n",
       "14483                                                                [one, agents, available, speak]   \n",
       "14484                       [better, time, call, My, Friday, I, need, change, Worried, I, may, hold]   \n",
       "\n",
       "                                                                         text_clean_2  \\\n",
       "0          new CEO seek right balance please passenger Wall Greenfield Daily Reporter   \n",
       "1                                                   REALLY getting nerve ! ! nothappy   \n",
       "2                yes We waited line almost hour Some passenger left wanting wait past   \n",
       "3                    got gate IAH time given seat closed If know people arriving wait   \n",
       "4      cool bag take bit longer dont give baggage blue ballsturn carousel tell coming   \n",
       "...                                                                               ...   \n",
       "14480                                                I hope I often would hate change   \n",
       "14481                                                           DM possible following   \n",
       "14482                         Yesterday way EWR FLL takeoff :_) wheelsup JetBlueSoFly   \n",
       "14483                                                       one agent available speak   \n",
       "14484                     better time call My Friday I need change Worried I may hold   \n",
       "\n",
       "       sentiment_vader   score  \n",
       "0                    2  0.3182  \n",
       "1                    1 -0.5512  \n",
       "2                    1 -0.4601  \n",
       "3                    1 -0.4588  \n",
       "4                    2  0.3182  \n",
       "...                ...     ...  \n",
       "14480                1 -0.4215  \n",
       "14481                0  0.0000  \n",
       "14482                0  0.0000  \n",
       "14483                0  0.0000  \n",
       "14484                1 -0.5106  \n",
       "\n",
       "[14485 rows x 8 columns]"
      ]
     },
     "execution_count": 1385,
     "metadata": {},
     "output_type": "execute_result"
    }
   ],
   "source": [
    "my_dict = {\"positive\": 2, \"negative\": 1, \"neutral\": 0}\n",
    "df4 = df4.replace({\"sentiment\": my_dict})\n",
    " \n",
    "df4"
   ]
  },
  {
   "cell_type": "markdown",
   "id": "00f74df8",
   "metadata": {},
   "source": [
    "## Vader + CountVec + Logistic Regression"
   ]
  },
  {
   "cell_type": "code",
   "execution_count": 1095,
   "id": "8851dcf1",
   "metadata": {},
   "outputs": [],
   "source": [
    "from sklearn.metrics import confusion_matrix\n",
    "from sklearn.metrics import precision_score, recall_score, accuracy_score\n",
    "from sklearn.model_selection import train_test_split, GridSearchCV, StratifiedKFold\n",
    "from sklearn.metrics import make_scorer, precision_recall_curve, classification_report\n",
    "from sklearn.metrics import roc_curve, auc, f1_score, roc_auc_score\n",
    "import imblearn.over_sampling\n",
    "from sklearn.feature_extraction.text import CountVectorizer, TfidfVectorizer\n"
   ]
  },
  {
   "cell_type": "code",
   "execution_count": 1386,
   "id": "3b5bac78",
   "metadata": {},
   "outputs": [
    {
     "data": {
      "text/plain": [
       "4345"
      ]
     },
     "execution_count": 1386,
     "metadata": {},
     "output_type": "execute_result"
    }
   ],
   "source": [
    "#generate random list of numbers for indices\n",
    "import random\n",
    "\n",
    "lst = list(range(0,14485))\n",
    "percent= round(0.3 * 14484)\n",
    "  \n",
    "\n",
    "test_index = random.sample(lst, percent)\n",
    "  \n",
    "len(n_index)"
   ]
  },
  {
   "cell_type": "code",
   "execution_count": 1387,
   "id": "cd224373",
   "metadata": {},
   "outputs": [],
   "source": [
    "df_test = df4.iloc[test_index]"
   ]
  },
  {
   "cell_type": "code",
   "execution_count": 1388,
   "id": "640779a2",
   "metadata": {},
   "outputs": [
    {
     "data": {
      "text/plain": [
       "4345"
      ]
     },
     "execution_count": 1388,
     "metadata": {},
     "output_type": "execute_result"
    }
   ],
   "source": [
    "len(df_test)"
   ]
  },
  {
   "cell_type": "code",
   "execution_count": 1389,
   "id": "3dae2277",
   "metadata": {},
   "outputs": [],
   "source": [
    "df_train = df4.drop(index=test_index)"
   ]
  },
  {
   "cell_type": "code",
   "execution_count": 1390,
   "id": "c103a9d7",
   "metadata": {},
   "outputs": [
    {
     "data": {
      "text/plain": [
       "14485"
      ]
     },
     "execution_count": 1390,
     "metadata": {},
     "output_type": "execute_result"
    }
   ],
   "source": [
    "len(df_train) + len(df_test)"
   ]
  },
  {
   "cell_type": "code",
   "execution_count": 1391,
   "id": "6f39978f",
   "metadata": {},
   "outputs": [],
   "source": [
    "X_train = df_train['text_clean_2']\n",
    "y_train = df_train['sentiment_vader']"
   ]
  },
  {
   "cell_type": "code",
   "execution_count": 1392,
   "id": "4de7dba8",
   "metadata": {},
   "outputs": [],
   "source": [
    "X_test = df_test['text_clean_2']\n",
    "y_test = df_test['sentiment']"
   ]
  },
  {
   "cell_type": "code",
   "execution_count": null,
   "id": "7f987687",
   "metadata": {},
   "outputs": [],
   "source": []
  },
  {
   "cell_type": "markdown",
   "id": "3b13a3ee",
   "metadata": {},
   "source": [
    "## CountVectorizer"
   ]
  },
  {
   "cell_type": "code",
   "execution_count": 1393,
   "id": "28891b38",
   "metadata": {},
   "outputs": [],
   "source": [
    "from sklearn.linear_model import LogisticRegression"
   ]
  },
  {
   "cell_type": "code",
   "execution_count": 1394,
   "id": "5c1e570a",
   "metadata": {},
   "outputs": [],
   "source": [
    "count_vectorizer = CountVectorizer(stop_words='english', max_df = 0.90, min_df = 0.01).fit(df_train['text_clean_2'])\n"
   ]
  },
  {
   "cell_type": "code",
   "execution_count": 1395,
   "id": "ac951499",
   "metadata": {},
   "outputs": [],
   "source": [
    "X_train = count_vectorizer.transform(X_train)\n"
   ]
  },
  {
   "cell_type": "code",
   "execution_count": 1396,
   "id": "65d0d65b",
   "metadata": {},
   "outputs": [],
   "source": [
    "c_params = [0.1, 1, 10, 100]\n",
    "\n",
    "grid_params_lr = [{'C' : c_params, \n",
    "                   'class_weight' : [None, 'balanced']}]"
   ]
  },
  {
   "cell_type": "code",
   "execution_count": 1397,
   "id": "0dd9fae6",
   "metadata": {},
   "outputs": [],
   "source": [
    "lr = GridSearchCV(LogisticRegression(multi_class='multinomial', solver='lbfgs', max_iter=10000), grid_params_lr, cv=3)\n",
    "\n"
   ]
  },
  {
   "cell_type": "code",
   "execution_count": 1398,
   "id": "d9be2de8",
   "metadata": {},
   "outputs": [
    {
     "data": {
      "text/plain": [
       "GridSearchCV(cv=3,\n",
       "             estimator=LogisticRegression(max_iter=10000,\n",
       "                                          multi_class='multinomial'),\n",
       "             param_grid=[{'C': [0.1, 1, 10, 100],\n",
       "                          'class_weight': [None, 'balanced']}])"
      ]
     },
     "execution_count": 1398,
     "metadata": {},
     "output_type": "execute_result"
    }
   ],
   "source": [
    "lr.fit(X_train, y_train)"
   ]
  },
  {
   "cell_type": "code",
   "execution_count": 1399,
   "id": "46cbc755",
   "metadata": {},
   "outputs": [],
   "source": [
    "X_test = count_vectorizer.transform(df_test['text_clean_2'])"
   ]
  },
  {
   "cell_type": "code",
   "execution_count": 1400,
   "id": "ea9784c6",
   "metadata": {},
   "outputs": [
    {
     "data": {
      "text/plain": [
       "0.5436133486766398"
      ]
     },
     "execution_count": 1400,
     "metadata": {},
     "output_type": "execute_result"
    }
   ],
   "source": [
    "lr.best_estimator_.score(X_test, y_test)"
   ]
  },
  {
   "cell_type": "code",
   "execution_count": 1401,
   "id": "6e20fdb4",
   "metadata": {},
   "outputs": [],
   "source": [
    "best_model_lr = lr.best_estimator_"
   ]
  },
  {
   "cell_type": "code",
   "execution_count": 1533,
   "id": "265eef79",
   "metadata": {},
   "outputs": [
    {
     "data": {
      "text/plain": [
       "LogisticRegression(C=10, max_iter=10000, multi_class='multinomial')"
      ]
     },
     "execution_count": 1533,
     "metadata": {},
     "output_type": "execute_result"
    }
   ],
   "source": [
    "best_model_lr"
   ]
  },
  {
   "cell_type": "code",
   "execution_count": 1128,
   "id": "2cee43b4",
   "metadata": {},
   "outputs": [],
   "source": [
    "from sklearn.metrics import confusion_matrix\n",
    "import seaborn as sns\n",
    "from sklearn import metrics\n",
    "from sklearn.metrics import plot_confusion_matrix\n"
   ]
  },
  {
   "cell_type": "code",
   "execution_count": 1604,
   "id": "89c0e8c8",
   "metadata": {
    "scrolled": false
   },
   "outputs": [
    {
     "name": "stderr",
     "output_type": "stream",
     "text": [
      "/Applications/anaconda3/lib/python3.8/site-packages/sklearn/utils/deprecation.py:87: FutureWarning: Function plot_confusion_matrix is deprecated; Function `plot_confusion_matrix` is deprecated in 1.0 and will be removed in 1.2. Use one of the class methods: ConfusionMatrixDisplay.from_predictions or ConfusionMatrixDisplay.from_estimator.\n",
      "  warnings.warn(msg, category=FutureWarning)\n"
     ]
    },
    {
     "data": {
      "image/png": "[encoded data removed]",
      "text/plain": [
       "<Figure size 720x432 with 2 Axes>"
      ]
     },
     "metadata": {},
     "output_type": "display_data"
    }
   ],
   "source": [
    "plot_confusion_matrix(best_model_lr, X_test, y_test,\n",
    "                      display_labels = ['Neutral', 'Negative', 'Positive'],\n",
    "                     normalize = 'true', values_format='.2%')\n",
    "\n",
    "plt.grid(visible=None);"
   ]
  },
  {
   "cell_type": "code",
   "execution_count": 1403,
   "id": "29a29b99",
   "metadata": {},
   "outputs": [],
   "source": [
    "y_pred = best_model_lr.predict(X_test)\n"
   ]
  },
  {
   "cell_type": "code",
   "execution_count": 1404,
   "id": "c476f7fe",
   "metadata": {},
   "outputs": [
    {
     "name": "stdout",
     "output_type": "stream",
     "text": [
      "              precision    recall  f1-score   support\n",
      "\n",
      "           0       0.35      0.54      0.42       911\n",
      "           1       0.88      0.51      0.64      2726\n",
      "           2       0.36      0.69      0.47       708\n",
      "\n",
      "    accuracy                           0.54      4345\n",
      "   macro avg       0.53      0.58      0.51      4345\n",
      "weighted avg       0.68      0.54      0.57      4345\n",
      "\n"
     ]
    }
   ],
   "source": [
    "print(classification_report(y_test, y_pred))"
   ]
  },
  {
   "cell_type": "markdown",
   "id": "0e9fa41d",
   "metadata": {},
   "source": [
    "## negative precision is 88%"
   ]
  },
  {
   "cell_type": "markdown",
   "id": "594e8e47",
   "metadata": {},
   "source": [
    "## TFIDF"
   ]
  },
  {
   "cell_type": "code",
   "execution_count": 1405,
   "id": "2fdef7b5",
   "metadata": {},
   "outputs": [],
   "source": [
    "tfidf_vectorizer = TfidfVectorizer(stop_words='english', max_df = 0.90, min_df = 0.01).fit(df_train['text_clean_2'])\n",
    "\n"
   ]
  },
  {
   "cell_type": "code",
   "execution_count": 1406,
   "id": "d02416dc",
   "metadata": {},
   "outputs": [],
   "source": [
    "X_train_2 = tfidf_vectorizer.transform(df_train['text_clean_2'])\n",
    "\n"
   ]
  },
  {
   "cell_type": "code",
   "execution_count": 1407,
   "id": "53306b13",
   "metadata": {},
   "outputs": [],
   "source": [
    "lr2 = GridSearchCV(LogisticRegression(multi_class='multinomial', solver='lbfgs', max_iter=10000), grid_params_lr, cv=3)\n"
   ]
  },
  {
   "cell_type": "code",
   "execution_count": 1408,
   "id": "e57c5e3f",
   "metadata": {},
   "outputs": [
    {
     "data": {
      "text/plain": [
       "GridSearchCV(cv=3,\n",
       "             estimator=LogisticRegression(max_iter=10000,\n",
       "                                          multi_class='multinomial'),\n",
       "             param_grid=[{'C': [0.1, 1, 10, 100],\n",
       "                          'class_weight': [None, 'balanced']}])"
      ]
     },
     "execution_count": 1408,
     "metadata": {},
     "output_type": "execute_result"
    }
   ],
   "source": [
    "lr2.fit(X_train_2, y_train)"
   ]
  },
  {
   "cell_type": "code",
   "execution_count": 1409,
   "id": "85b97920",
   "metadata": {},
   "outputs": [],
   "source": [
    "X_test_2 = tfidf_vectorizer.transform(df_test['text_clean_2'])"
   ]
  },
  {
   "cell_type": "code",
   "execution_count": 1410,
   "id": "85cf7804",
   "metadata": {},
   "outputs": [
    {
     "data": {
      "text/plain": [
       "0.5288837744533947"
      ]
     },
     "execution_count": 1410,
     "metadata": {},
     "output_type": "execute_result"
    }
   ],
   "source": [
    "lr2.best_estimator_.score(X_test_2, y_test)"
   ]
  },
  {
   "cell_type": "code",
   "execution_count": 1411,
   "id": "5a5b3a8e",
   "metadata": {},
   "outputs": [],
   "source": [
    "best_model_lr_2 = lr2.best_estimator_"
   ]
  },
  {
   "cell_type": "code",
   "execution_count": 1534,
   "id": "1c26a5ff",
   "metadata": {},
   "outputs": [
    {
     "data": {
      "text/plain": [
       "LogisticRegression(C=1, class_weight='balanced', max_iter=10000,\n",
       "                   multi_class='multinomial')"
      ]
     },
     "execution_count": 1534,
     "metadata": {},
     "output_type": "execute_result"
    }
   ],
   "source": [
    "best_model_lr_2"
   ]
  },
  {
   "cell_type": "code",
   "execution_count": 1204,
   "id": "c64817a9",
   "metadata": {},
   "outputs": [],
   "source": [
    "import matplotlib.pyplot as plt"
   ]
  },
  {
   "cell_type": "code",
   "execution_count": 1195,
   "id": "d2cfa7d8",
   "metadata": {},
   "outputs": [],
   "source": [
    "from sklearn.metrics import ConfusionMatrixDisplay"
   ]
  },
  {
   "cell_type": "code",
   "execution_count": 1605,
   "id": "bc388fc0",
   "metadata": {
    "scrolled": false
   },
   "outputs": [
    {
     "data": {
      "image/png": "[encoded data removed]",
      "text/plain": [
       "<Figure size 720x432 with 2 Axes>"
      ]
     },
     "metadata": {},
     "output_type": "display_data"
    }
   ],
   "source": [
    "ConfusionMatrixDisplay.from_estimator(best_model_lr_2, X_test_2, y_test,\n",
    "                                      display_labels = ['Neutral', 'Negative', 'Positive'],\n",
    "                     normalize = 'true', values_format='.2%')\n",
    "\n",
    "plt.grid(visible=None)"
   ]
  },
  {
   "cell_type": "code",
   "execution_count": 1413,
   "id": "a70c3d93",
   "metadata": {},
   "outputs": [
    {
     "name": "stdout",
     "output_type": "stream",
     "text": [
      "              precision    recall  f1-score   support\n",
      "\n",
      "           0       0.33      0.66      0.44       911\n",
      "           1       0.89      0.45      0.60      2726\n",
      "           2       0.41      0.65      0.50       708\n",
      "\n",
      "    accuracy                           0.53      4345\n",
      "   macro avg       0.54      0.59      0.51      4345\n",
      "weighted avg       0.69      0.53      0.55      4345\n",
      "\n"
     ]
    }
   ],
   "source": [
    "y_pred_2 = best_model_lr_2.predict(X_test_2)\n",
    "print(classification_report(y_test, y_pred_2))"
   ]
  },
  {
   "cell_type": "markdown",
   "id": "c9c86d3c",
   "metadata": {},
   "source": [
    "## Negative precision is at 89%"
   ]
  },
  {
   "cell_type": "code",
   "execution_count": null,
   "id": "89d7a2a7",
   "metadata": {},
   "outputs": [],
   "source": []
  },
  {
   "cell_type": "code",
   "execution_count": null,
   "id": "a30db1bb",
   "metadata": {},
   "outputs": [],
   "source": []
  },
  {
   "cell_type": "markdown",
   "id": "c0282798",
   "metadata": {},
   "source": [
    "## Topic Modeling on Negative tweets - Count Vectorizer + NMF "
   ]
  },
  {
   "cell_type": "code",
   "execution_count": 1066,
   "id": "4b1db534",
   "metadata": {},
   "outputs": [],
   "source": [
    "from sklearn.decomposition import NMF\n"
   ]
  },
  {
   "cell_type": "code",
   "execution_count": null,
   "id": "cee3b799",
   "metadata": {},
   "outputs": [],
   "source": [
    "pd.set_option('display.max_colwidth', None)"
   ]
  },
  {
   "cell_type": "code",
   "execution_count": 1416,
   "id": "c0571673",
   "metadata": {},
   "outputs": [],
   "source": [
    "df5 = df4.copy()"
   ]
  },
  {
   "cell_type": "code",
   "execution_count": 1419,
   "id": "e509a4c0",
   "metadata": {},
   "outputs": [],
   "source": [
    "df5['text_clean_2'] = df5['text_clean_2'].map(lambda x: x.lower())"
   ]
  },
  {
   "cell_type": "code",
   "execution_count": null,
   "id": "4a395d0b",
   "metadata": {},
   "outputs": [],
   "source": []
  },
  {
   "cell_type": "code",
   "execution_count": 1420,
   "id": "7c8085cd",
   "metadata": {},
   "outputs": [],
   "source": [
    "punct_2 = string.punctuation\n",
    "\n",
    "df5['text_clean_2'] = df5['text_clean_2'].map(lambda x: re.sub('[%s]' % re.escape(punct_2), '', x))\n"
   ]
  },
  {
   "cell_type": "code",
   "execution_count": 1427,
   "id": "6d925046",
   "metadata": {},
   "outputs": [],
   "source": [
    "df5['text_clean_3'] = df5['text_clean_2'].map(lambda x: re.sub(r\"\\bflightr\\b\",\"flight\",x))"
   ]
  },
  {
   "cell_type": "code",
   "execution_count": 1428,
   "id": "262ace1c",
   "metadata": {},
   "outputs": [],
   "source": [
    "df5['text_clean_3'] = df5['text_clean_3'].map(lambda x: re.sub(r\"\\bflightled\\b\",\"flight\",x))\n"
   ]
  },
  {
   "cell_type": "code",
   "execution_count": 1441,
   "id": "a63a6bc8",
   "metadata": {},
   "outputs": [],
   "source": [
    "df5['text_clean_3'] = df5['text_clean_3'].map(lambda x: re.sub(r\"\\bnt\\b\",\"\",x))\n",
    "df5['text_clean_3'] = df5['text_clean_3'].map(lambda x: re.sub(r\"\\bmin\\b\",\"minute\",x))\n",
    "\n"
   ]
  },
  {
   "cell_type": "code",
   "execution_count": null,
   "id": "5434c55e",
   "metadata": {},
   "outputs": [],
   "source": [
    "df5['text_clean_3'] = df5['text_clean_3'].map(lambda x: re.sub(r\"\\bflighted\\b\",\"flight\",x))\n"
   ]
  },
  {
   "cell_type": "code",
   "execution_count": 1435,
   "id": "183e17b8",
   "metadata": {},
   "outputs": [],
   "source": [
    "df5['text_clean_3'] = df5['text_clean_3'].apply(clean_stopword)"
   ]
  },
  {
   "cell_type": "code",
   "execution_count": 1442,
   "id": "ff257517",
   "metadata": {},
   "outputs": [],
   "source": [
    "df_neg = df5[(df5['sentiment_vader']==1)]"
   ]
  },
  {
   "cell_type": "code",
   "execution_count": 1447,
   "id": "05cae4d1",
   "metadata": {},
   "outputs": [
    {
     "name": "stderr",
     "output_type": "stream",
     "text": [
      "/Applications/anaconda3/lib/python3.8/site-packages/sklearn/decomposition/_nmf.py:289: FutureWarning: The 'init' value, when 'init=None' and n_components is less than n_samples and n_features, will be changed from 'nndsvd' to 'nndsvda' in 1.1 (renaming of 0.26).\n",
      "  warnings.warn(\n"
     ]
    },
    {
     "data": {
      "text/plain": [
       "NMF(n_components=15)"
      ]
     },
     "execution_count": 1447,
     "metadata": {},
     "output_type": "execute_result"
    }
   ],
   "source": [
    "#bigrams not useful; removed ngram_range=(1,2)\n",
    "\n",
    "vectorizer = TfidfVectorizer(stop_words='english', max_df = 0.90, min_df = 0.01)\n",
    "doc_term_matrix = vectorizer.fit_transform(df_neg['text_clean_3'])\n",
    "\n",
    "nmf = NMF(15) #10 topics\n",
    "nmf.fit(doc_term_matrix)"
   ]
  },
  {
   "cell_type": "code",
   "execution_count": 1448,
   "id": "e31de735",
   "metadata": {},
   "outputs": [],
   "source": [
    "h_matrix = nmf.components_ #H matrix\n",
    "w_matrix = nmf.transform(doc_term_matrix) #W matrix"
   ]
  },
  {
   "cell_type": "code",
   "execution_count": 1449,
   "id": "ca7f9bac",
   "metadata": {},
   "outputs": [],
   "source": [
    "#top words in each topic\n",
    "\n",
    "num_words = 20\n",
    "vocab = np.array(vectorizer.get_feature_names_out())\n",
    "\n",
    "top_words = lambda x: [vocab[i] for i in np.argsort(x)[:-num_words-1:-1]]\n",
    "topic_words = ([top_words(x) for x in h_matrix])\n",
    "topics = [' '.join(x) for x in topic_words]"
   ]
  },
  {
   "cell_type": "code",
   "execution_count": 1450,
   "id": "250846cb",
   "metadata": {},
   "outputs": [
    {
     "data": {
      "text/plain": [
       "['hour wait hold got sitting phone thanks ago airport home luggage finally like seriously trying stuck told ridiculous update left',\n",
       " 'customer service terrible poor bad rude horrible disappointed line response suck staff rep agent today lost phone guy really people',\n",
       " 'cancelled today tomorrow weather dfw rebook hotel refund got home rebooked trying want email morning going trip ticket booked tonight',\n",
       " 'plane issue sitting gate passenger stuck let know left jfk way pilot getting fail crew ca problem boarding new weather',\n",
       " 'hold minute help reservation trying wait rebook unacceptable answer long line rep online going called ridiculous know website book let',\n",
       " 'delayed connection miss way missed make pm gate jfk pilot getting going today update problem hotel week missing crew say',\n",
       " 'bag lost check baggage minute wait missing thanks people fail airport ago pay wrong know luggage guy staff said flying',\n",
       " 'time wait long issue minute boarding gate tried today flying guy called thanks leave going say disappointed airport phone book',\n",
       " 'delay weather crew minute jfk today going thanks really connection gate tonight like miss way flying pilot bad staff email',\n",
       " 'late crew minute say flt rebooked gate connection passenger today getting got left work missing missed flying thanks finally tell',\n",
       " 'change need help ca phone ticket online make trying problems booking reservation agent got refund travel airport wait number email',\n",
       " 'waiting gate minute agent luggage sitting tarmac people airport baggage line flt response crew rude dfw going passenger update told',\n",
       " 'seat going passenger got pay new check connection booked boarding seriously missed people said know disappointed right really online week',\n",
       " 'worst experience flying guy travel like know got airport let stuck thanks trip bad suck horrible fail hotel service week',\n",
       " 'day luggage lost long trying bad issue airport home refund want trip thanks work stuck miss weather way travel baggage']"
      ]
     },
     "execution_count": 1450,
     "metadata": {},
     "output_type": "execute_result"
    }
   ],
   "source": [
    "topics"
   ]
  },
  {
   "cell_type": "code",
   "execution_count": null,
   "id": "1936b689",
   "metadata": {},
   "outputs": [],
   "source": []
  },
  {
   "cell_type": "code",
   "execution_count": null,
   "id": "e3e6c718",
   "metadata": {},
   "outputs": [],
   "source": []
  },
  {
   "cell_type": "markdown",
   "id": "b26359dd",
   "metadata": {},
   "source": [
    "# CorEx"
   ]
  },
  {
   "cell_type": "code",
   "execution_count": 1465,
   "id": "ae739749",
   "metadata": {},
   "outputs": [
    {
     "name": "stdout",
     "output_type": "stream",
     "text": [
      "Collecting corextopic\n",
      "  Downloading corextopic-1.1-py3-none-any.whl (27 kB)\n",
      "Installing collected packages: corextopic\n",
      "Successfully installed corextopic-1.1\n"
     ]
    }
   ],
   "source": [
    "!pip install corextopic"
   ]
  },
  {
   "cell_type": "code",
   "execution_count": 1466,
   "id": "9ee02015",
   "metadata": {},
   "outputs": [],
   "source": [
    "from corextopic import corextopic as ct"
   ]
  },
  {
   "cell_type": "code",
   "execution_count": 1467,
   "id": "9bc07b25",
   "metadata": {},
   "outputs": [
    {
     "name": "stderr",
     "output_type": "stream",
     "text": [
      "/Applications/anaconda3/lib/python3.8/site-packages/sklearn/utils/deprecation.py:87: FutureWarning: Function get_feature_names is deprecated; get_feature_names is deprecated in 1.0 and will be removed in 1.2. Please use get_feature_names_out instead.\n",
      "  warnings.warn(msg, category=FutureWarning)\n"
     ]
    }
   ],
   "source": [
    "words = list(np.asarray(vectorizer.get_feature_names()))"
   ]
  },
  {
   "cell_type": "code",
   "execution_count": 1471,
   "id": "8964ae15",
   "metadata": {},
   "outputs": [
    {
     "data": {
      "text/plain": [
       "<corextopic.corextopic.Corex at 0x7f8a3ffcd5b0>"
      ]
     },
     "execution_count": 1471,
     "metadata": {},
     "output_type": "execute_result"
    }
   ],
   "source": [
    "topic_model = ct.Corex(n_hidden=10, words=words)\n",
    "\n",
    "\n",
    "topic_model.fit(doc_term_matrix, words=words)\n"
   ]
  },
  {
   "cell_type": "code",
   "execution_count": 1472,
   "id": "9189e406",
   "metadata": {},
   "outputs": [],
   "source": [
    "topics_c = topic_model.get_topics()"
   ]
  },
  {
   "cell_type": "code",
   "execution_count": 1473,
   "id": "44adc975",
   "metadata": {},
   "outputs": [
    {
     "name": "stdout",
     "output_type": "stream",
     "text": [
      "0: problems, booking, online, number, change, plane, phone, website, reservation, sitting\n",
      "1: airport, going, pay, people, seat, stuck\n",
      "2: leave, line, service, tell, terrible, thanks, told, wrong\n",
      "3: disappointed, getting, passenger, poor, refund, sorry, travel, weather, work\n",
      "4: agent, answer, bad, baggage, boarding, day, flt, horrible, hour, know\n",
      "5: experience, got, issue, like, new, really, ridiculous, right, said, seriously\n",
      "6: check, email, fail, finally, let, luggage, make, pm, trip\n",
      "7: ago, jfk, morning, pilot, response, voucher, way\n",
      "8: called, guy, missed, stop, today, unacceptable, update\n",
      "9: customer, dfw, flying, home, hotel, left, minute, problem, rebook, rude\n"
     ]
    }
   ],
   "source": [
    "for n,topic in enumerate(topics_c):\n",
    "    topic_words,_,_ = zip(*topic)\n",
    "    print(f'{n}: {\", \".join(topic_words)}')"
   ]
  },
  {
   "cell_type": "markdown",
   "id": "abbe84a9",
   "metadata": {},
   "source": [
    "## some anchors"
   ]
  },
  {
   "cell_type": "code",
   "execution_count": 1547,
   "id": "62c4da58",
   "metadata": {},
   "outputs": [
    {
     "data": {
      "text/plain": [
       "<corextopic.corextopic.Corex at 0x7f88299503d0>"
      ]
     },
     "execution_count": 1547,
     "metadata": {},
     "output_type": "execute_result"
    }
   ],
   "source": [
    "topic_model_2 = ct.Corex(n_hidden=10, words=words)\n",
    "\n",
    "\n",
    "topic_model_2.fit(doc_term_matrix, words=words)"
   ]
  },
  {
   "cell_type": "code",
   "execution_count": 1548,
   "id": "398ab55b",
   "metadata": {},
   "outputs": [],
   "source": [
    "topics_c_2 = topic_model_2.get_topics()"
   ]
  },
  {
   "cell_type": "code",
   "execution_count": 1549,
   "id": "71221d68",
   "metadata": {},
   "outputs": [
    {
     "name": "stdout",
     "output_type": "stream",
     "text": [
      "0: problems, booking, online, number, change, plane, phone, reservation, website, sitting\n",
      "1: airport, email, got, problem, response, wait\n",
      "2: answer, leave, minute, night, pay, poor, seriously, service, stuck, voucher\n",
      "3: finally, flying, left, people, said, today, tonight, week, work\n",
      "4: boarding, book, long, new, say, sorry, travel, way, wrong\n",
      "5: agent, ago, dfw, fail, know, like, missed, tried, update\n",
      "6: hotel, hour, late, line, rebooked, seat, stop, weather\n",
      "7: bad, called, customer, experience, going, jfk, missing, passenger, pm, rude\n",
      "8: check, day, guy, horrible, make, morning, really, refund, ridiculous, suck\n",
      "9: flt, getting, let\n"
     ]
    }
   ],
   "source": [
    "for n,topic in enumerate(topics_c_2):\n",
    "    topic_words,_,_ = zip(*topic)\n",
    "    print(f'{n}: {\", \".join(topic_words)}')"
   ]
  },
  {
   "cell_type": "code",
   "execution_count": 1555,
   "id": "a829dbc4",
   "metadata": {},
   "outputs": [],
   "source": [
    "pd.set_option('display.max_row', None)"
   ]
  },
  {
   "cell_type": "code",
   "execution_count": 1606,
   "id": "e30a1c43",
   "metadata": {},
   "outputs": [
    {
     "data": {
      "text/html": [
       "<div>\n",
       "<style scoped>\n",
       "    .dataframe tbody tr th:only-of-type {\n",
       "        vertical-align: middle;\n",
       "    }\n",
       "\n",
       "    .dataframe tbody tr th {\n",
       "        vertical-align: top;\n",
       "    }\n",
       "\n",
       "    .dataframe thead th {\n",
       "        text-align: right;\n",
       "    }\n",
       "</style>\n",
       "<table border=\"1\" class=\"dataframe\">\n",
       "  <thead>\n",
       "    <tr style=\"text-align: right;\">\n",
       "      <th></th>\n",
       "      <th>airline</th>\n",
       "      <th>text</th>\n",
       "      <th>negativereason</th>\n",
       "      <th>sentiment</th>\n",
       "      <th>text_clean</th>\n",
       "      <th>text_clean_2</th>\n",
       "    </tr>\n",
       "  </thead>\n",
       "  <tbody>\n",
       "    <tr>\n",
       "      <th>279</th>\n",
       "      <td>US Airways</td>\n",
       "      <td>@USAirways issues are not with people who r nice or storm emails with wrong phone numbers auto rebooked flights to non connecting cities</td>\n",
       "      <td>Customer Service Issue</td>\n",
       "      <td>negative</td>\n",
       "      <td>[issues, people, r, nice, storm, emails, wrong, phone, numbers, auto, rebooked, non, connecting, cities]</td>\n",
       "      <td>issue people r nice storm email wrong phone number auto rebooked non connecting city</td>\n",
       "    </tr>\n",
       "    <tr>\n",
       "      <th>303</th>\n",
       "      <td>United</td>\n",
       "      <td>@united Second day &amp;amp; attempt trying to leave IAD &amp;amp; I'm on another plane delayed for mechanical issues. Over an hour delayed!</td>\n",
       "      <td>Late Flight</td>\n",
       "      <td>negative</td>\n",
       "      <td>[Second, day, attempt, trying, leave, IAD, I, 'm, another, plane, delayed, mechanical, issues, Over, hour, delayed, !]</td>\n",
       "      <td>Second day attempt trying leave IAD I 'm another plane delayed mechanical issue Over hour delayed !</td>\n",
       "    </tr>\n",
       "    <tr>\n",
       "      <th>326</th>\n",
       "      <td>Southwest</td>\n",
       "      <td>@SouthwestAir how about when there are Cancelled Flightlations you just have a link to rebook like you did for initial storm issues?</td>\n",
       "      <td>Cancelled Flight</td>\n",
       "      <td>negative</td>\n",
       "      <td>[Cancelled, Flightlations, link, rebook, like, initial, storm, issues]</td>\n",
       "      <td>Cancelled Flightlations link rebook like initial storm issue</td>\n",
       "    </tr>\n",
       "    <tr>\n",
       "      <th>401</th>\n",
       "      <td>United</td>\n",
       "      <td>@united she has crossed 4 prior times with other carriers and no issue. Karen was rude, untrained and unhelpful I also spoke</td>\n",
       "      <td>Flight Attendant Complaints</td>\n",
       "      <td>negative</td>\n",
       "      <td>[crossed, prior, times, carriers, issue, Karen, rude, untrained, unhelpful, I, also, spoke]</td>\n",
       "      <td>crossed prior time carrier issue Karen rude untrained unhelpful I also spoke</td>\n",
       "    </tr>\n",
       "    <tr>\n",
       "      <th>444</th>\n",
       "      <td>United</td>\n",
       "      <td>@united thanks kp but luckily my transfer has maintenance issues and is still delayed so I didn't miss my transfer...</td>\n",
       "      <td>Late Flight</td>\n",
       "      <td>negative</td>\n",
       "      <td>[thanks, kp, luckily, transfer, maintenance, issues, still, delayed, I, miss, transfer]</td>\n",
       "      <td>thanks kp luckily transfer maintenance issue still delayed I miss transfer</td>\n",
       "    </tr>\n",
       "    <tr>\n",
       "      <th>621</th>\n",
       "      <td>United</td>\n",
       "      <td>@united flight 86 LAX-IAD, back rows NOT CLEANED prior to boarding. How gross is that to find used tissues in your seat?  Please.</td>\n",
       "      <td>Bad Flight</td>\n",
       "      <td>negative</td>\n",
       "      <td>[LAXIAD, back, rows, NOT, CLEANED, prior, boarding, How, gross, find, used, tissues, seat, Please]</td>\n",
       "      <td>LAXIAD back row NOT CLEANED prior boarding How gross find used tissue seat Please</td>\n",
       "    </tr>\n",
       "    <tr>\n",
       "      <th>728</th>\n",
       "      <td>United</td>\n",
       "      <td>@united JT the issue is with missed connections early gate closings and zero concern from customer service</td>\n",
       "      <td>Customer Service Issue</td>\n",
       "      <td>negative</td>\n",
       "      <td>[JT, issue, missed, connections, early, gate, closings, zero, concern, customer, service]</td>\n",
       "      <td>JT issue missed connection early gate closing zero concern customer service</td>\n",
       "    </tr>\n",
       "    <tr>\n",
       "      <th>804</th>\n",
       "      <td>United</td>\n",
       "      <td>@united stuck here in IAH waiting on flight 253 to Honolulu for 7 hours due to maintenance issues. Could we have gotten a new plane!?!? Fail</td>\n",
       "      <td>Late Flight</td>\n",
       "      <td>negative</td>\n",
       "      <td>[stuck, IAH, waiting, Honolulu, hours, due, maintenance, issues, Could, gotten, new, plane, !, !, Fail]</td>\n",
       "      <td>stuck IAH waiting Honolulu hour due maintenance issue Could gotten new plane ! ! Fail</td>\n",
       "    </tr>\n",
       "    <tr>\n",
       "      <th>820</th>\n",
       "      <td>United</td>\n",
       "      <td>@united If you have had any issues with  United Airlines PLEASE retweet. Paid for a full fight ticket and was given a standby instead.</td>\n",
       "      <td>Flight Booking Problems</td>\n",
       "      <td>negative</td>\n",
       "      <td>[If, issues, United, Airlines, PLEASE, retweet, Paid, full, fight, ticket, given, standby, instead]</td>\n",
       "      <td>If issue United Airlines PLEASE retweet Paid full fight ticket given standby instead</td>\n",
       "    </tr>\n",
       "    <tr>\n",
       "      <th>846</th>\n",
       "      <td>US Airways</td>\n",
       "      <td>@USAirways And really, it's a middle initial versus middle name. All else the same. Not spending my time on your computer issues.</td>\n",
       "      <td>Customer Service Issue</td>\n",
       "      <td>negative</td>\n",
       "      <td>[And, really, middle, initial, versus, middle, name, All, else, Not, spending, time, computer, issues]</td>\n",
       "      <td>And really middle initial versus middle name All else Not spending time computer issue</td>\n",
       "    </tr>\n",
       "    <tr>\n",
       "      <th>929</th>\n",
       "      <td>Southwest</td>\n",
       "      <td>@SouthwestAir understand weather is an issue but on time Cancelled Flighted reinstated Cancelled Flighted with hardly any updates and doing nothing for me= :(</td>\n",
       "      <td>Cancelled Flight</td>\n",
       "      <td>negative</td>\n",
       "      <td>[understand, weather, issue, time, Cancelled, Flighted, reinstated, Cancelled, Flighted, hardly, updates, nothing, :_(]</td>\n",
       "      <td>understand weather issue time Cancelled Flighted reinstated Cancelled Flighted hardly update nothing :_(</td>\n",
       "    </tr>\n",
       "    <tr>\n",
       "      <th>1017</th>\n",
       "      <td>Delta</td>\n",
       "      <td>@JetBlue ticket issued whilst delivering your customers.</td>\n",
       "      <td>Can't Tell</td>\n",
       "      <td>negative</td>\n",
       "      <td>[ticket, issued, whilst, delivering, customers]</td>\n",
       "      <td>ticket issued whilst delivering customer</td>\n",
       "    </tr>\n",
       "    <tr>\n",
       "      <th>1092</th>\n",
       "      <td>Delta</td>\n",
       "      <td>@JetBlue Are there issues with the mobile boarding passes? My app keeps crashing when I try accessing. Thanks!</td>\n",
       "      <td>Customer Service Issue</td>\n",
       "      <td>negative</td>\n",
       "      <td>[Are, issues, mobile, boarding, passes, My, app, keeps, crashing, I, try, accessing, Thanks, !]</td>\n",
       "      <td>Are issue mobile boarding pass My app keep crashing I try accessing Thanks !</td>\n",
       "    </tr>\n",
       "    <tr>\n",
       "      <th>1098</th>\n",
       "      <td>United</td>\n",
       "      <td>@united mechanical issues causes delay and connecting plane at ORD only needed to wait 10 min for them. Refused and left early instead. Wtf</td>\n",
       "      <td>Can't Tell</td>\n",
       "      <td>negative</td>\n",
       "      <td>[mechanical, issues, causes, delay, connecting, plane, ORD, needed, wait, minute, Refused, left, early, instead, Wtf]</td>\n",
       "      <td>mechanical issue cause delay connecting plane ORD needed wait minute Refused left early instead Wtf</td>\n",
       "    </tr>\n",
       "    <tr>\n",
       "      <th>1108</th>\n",
       "      <td>United</td>\n",
       "      <td>@united I've been doing this for 15 years and I've never had this many issues with any other airline.</td>\n",
       "      <td>Late Flight</td>\n",
       "      <td>negative</td>\n",
       "      <td>[I, ', years, I, ', never, many, issues]</td>\n",
       "      <td>I ' year I ' never many issue</td>\n",
       "    </tr>\n",
       "    <tr>\n",
       "      <th>1118</th>\n",
       "      <td>Delta</td>\n",
       "      <td>@JetBlue flight was Cancelled Flighted. Do I need to file a claim for the $50 credit I'm entitled to per yr bill of rights, or will it just be issued?</td>\n",
       "      <td>Cancelled Flight</td>\n",
       "      <td>negative</td>\n",
       "      <td>[Cancelled, Flighted, Do, I, need, file, claim, credit, I, 'm, entitled, per, yr, bill, rights, issued]</td>\n",
       "      <td>Cancelled Flighted Do I need file claim credit I 'm entitled per yr bill right issued</td>\n",
       "    </tr>\n",
       "    <tr>\n",
       "      <th>1146</th>\n",
       "      <td>United</td>\n",
       "      <td>@united which now has maintenance issues with an undetermined amount of time until the mechanics even arrive</td>\n",
       "      <td>Can't Tell</td>\n",
       "      <td>negative</td>\n",
       "      <td>[maintenance, issues, undetermined, amount, time, mechanics, even, arrive]</td>\n",
       "      <td>maintenance issue undetermined amount time mechanic even arrive</td>\n",
       "    </tr>\n",
       "    <tr>\n",
       "      <th>1212</th>\n",
       "      <td>United</td>\n",
       "      <td>@united so you told me to go, knowing what the issue was, only for me to go there and find out that you won’t fix it?</td>\n",
       "      <td>Customer Service Issue</td>\n",
       "      <td>negative</td>\n",
       "      <td>[told, go, knowing, issue, go, find, won, ’, t, fix]</td>\n",
       "      <td>told go knowing issue go find won ’ t fix</td>\n",
       "    </tr>\n",
       "    <tr>\n",
       "      <th>1267</th>\n",
       "      <td>United</td>\n",
       "      <td>@united so who does handle bag issues? And why wouldn't you put me onto them in the first place?</td>\n",
       "      <td>Lost Luggage</td>\n",
       "      <td>negative</td>\n",
       "      <td>[handle, bag, issues, And, put, onto, first, place]</td>\n",
       "      <td>handle bag issue And put onto first place</td>\n",
       "    </tr>\n",
       "    <tr>\n",
       "      <th>1295</th>\n",
       "      <td>United</td>\n",
       "      <td>@united again, you said to go take the time to go there, knowing what the issue was, and knowing you won’t fix it.</td>\n",
       "      <td>Can't Tell</td>\n",
       "      <td>negative</td>\n",
       "      <td>[said, go, take, time, go, knowing, issue, knowing, won, ’, t, fix]</td>\n",
       "      <td>said go take time go knowing issue knowing won ’ t fix</td>\n",
       "    </tr>\n",
       "    <tr>\n",
       "      <th>1337</th>\n",
       "      <td>US Airways</td>\n",
       "      <td>@USAirways I absolutely knew you would try to blame weather to deny us vouchers in Phoenix. Totally false, was a crew issue.</td>\n",
       "      <td>Flight Attendant Complaints</td>\n",
       "      <td>negative</td>\n",
       "      <td>[I, absolutely, knew, would, try, blame, weather, deny, us, vouchers, Phoenix, Totally, false, crew, issue]</td>\n",
       "      <td>I absolutely knew would try blame weather deny u voucher Phoenix Totally false crew issue</td>\n",
       "    </tr>\n",
       "    <tr>\n",
       "      <th>1480</th>\n",
       "      <td>US Airways</td>\n",
       "      <td>@USAirways gate agents are now working with everyone to resolve connecting flight issues which is my concern</td>\n",
       "      <td>Flight Attendant Complaints</td>\n",
       "      <td>negative</td>\n",
       "      <td>[gate, agents, working, everyone, resolve, connecting, issues, concern]</td>\n",
       "      <td>gate agent working everyone resolve connecting issue concern</td>\n",
       "    </tr>\n",
       "    <tr>\n",
       "      <th>1602</th>\n",
       "      <td>US Airways</td>\n",
       "      <td>,@USAirways 2nd time this occurred in 3 weeks. I'm not patient. I have no choice.  #Antitrust issue</td>\n",
       "      <td>Can't Tell</td>\n",
       "      <td>negative</td>\n",
       "      <td>[nd, time, occurred, weeks, I, 'm, patient, I, choice, Antitrust, issue]</td>\n",
       "      <td>nd time occurred week I 'm patient I choice Antitrust issue</td>\n",
       "    </tr>\n",
       "    <tr>\n",
       "      <th>1627</th>\n",
       "      <td>United</td>\n",
       "      <td>@united  delayed about 8 hours because of missed connections due to mechanical issues on 1st flight. rebooked, but please call me 9148445695</td>\n",
       "      <td>Late Flight</td>\n",
       "      <td>negative</td>\n",
       "      <td>[delayed, hours, missed, connections, due, mechanical, issues, st, rebooked, please, call]</td>\n",
       "      <td>delayed hour missed connection due mechanical issue st rebooked please call</td>\n",
       "    </tr>\n",
       "    <tr>\n",
       "      <th>1678</th>\n",
       "      <td>US Airways</td>\n",
       "      <td>@USAirways @AmericanAir 90 min delay thanks to \"maintenance issues\". Thanks for wasting a day.</td>\n",
       "      <td>Late Flight</td>\n",
       "      <td>negative</td>\n",
       "      <td>[minute, delay, thanks, maintenance, issues, Thanks, wasting, day]</td>\n",
       "      <td>minute delay thanks maintenance issue Thanks wasting day</td>\n",
       "    </tr>\n",
       "    <tr>\n",
       "      <th>1853</th>\n",
       "      <td>US Airways</td>\n",
       "      <td>@USAirways stranded in Philly- #Starving and can't get a meal voucher even though your plane had mechanical issue /  next flight in 10 hrs</td>\n",
       "      <td>Late Flight</td>\n",
       "      <td>negative</td>\n",
       "      <td>[stranded, Philly, Starving, ca, n't, get, meal, voucher, even, though, plane, mechanical, issue, next, hour]</td>\n",
       "      <td>stranded Philly Starving ca n't get meal voucher even though plane mechanical issue next hour</td>\n",
       "    </tr>\n",
       "    <tr>\n",
       "      <th>2181</th>\n",
       "      <td>United</td>\n",
       "      <td>@united just informed you don't reimburse for issues due to weather. this is why your flights keep getting Cancelled Flightled--Thor hates you</td>\n",
       "      <td>Cancelled Flight</td>\n",
       "      <td>negative</td>\n",
       "      <td>[informed, reimburse, issues, due, weather, keep, getting, Cancelled, FlightledThor, hates]</td>\n",
       "      <td>informed reimburse issue due weather keep getting Cancelled FlightledThor hate</td>\n",
       "    </tr>\n",
       "    <tr>\n",
       "      <th>2227</th>\n",
       "      <td>US Airways</td>\n",
       "      <td>@USAirways that's understandable, my issue is with creating a new flight without the personnel to do it...I changed my plans to accommodate</td>\n",
       "      <td>Cancelled Flight</td>\n",
       "      <td>negative</td>\n",
       "      <td>[that, 's, understandable, issue, creating, new, without, personnel, itI, changed, plans, accommodate]</td>\n",
       "      <td>that 's understandable issue creating new without personnel itI changed plan accommodate</td>\n",
       "    </tr>\n",
       "    <tr>\n",
       "      <th>2471</th>\n",
       "      <td>US Airways</td>\n",
       "      <td>@USAirways @AmericanAir hey guys, due to some horrible customer service issues is there any way I can get a checked bag credit?</td>\n",
       "      <td>Customer Service Issue</td>\n",
       "      <td>negative</td>\n",
       "      <td>[hey, guys, due, horrible, customer, service, issues, way, I, get, checked, bag, credit]</td>\n",
       "      <td>hey guy due horrible customer service issue way I get checked bag credit</td>\n",
       "    </tr>\n",
       "    <tr>\n",
       "      <th>2642</th>\n",
       "      <td>United</td>\n",
       "      <td>@united my coworker that had the same conflict as me with the hotel issue trying to share posted on their facebook page and they erased it!!</td>\n",
       "      <td>Can't Tell</td>\n",
       "      <td>negative</td>\n",
       "      <td>[coworker, conflict, hotel, issue, trying, share, posted, facebook, page, erased, it, !, !]</td>\n",
       "      <td>coworker conflict hotel issue trying share posted facebook page erased it ! !</td>\n",
       "    </tr>\n",
       "    <tr>\n",
       "      <th>2663</th>\n",
       "      <td>United</td>\n",
       "      <td>@united its not the way to treat your customers we had a lot of issues and it was not worth our headache we went thru</td>\n",
       "      <td>Customer Service Issue</td>\n",
       "      <td>negative</td>\n",
       "      <td>[way, treat, customers, lot, issues, worth, headache, went, thru]</td>\n",
       "      <td>way treat customer lot issue worth headache went thru</td>\n",
       "    </tr>\n",
       "    <tr>\n",
       "      <th>2694</th>\n",
       "      <td>United</td>\n",
       "      <td>@united UA5029 from RIC, UA507 from ORD, &amp;amp; UA423 from DEN -ALL DELAYED for non-weather issues. Way to go, youre batting 1.000! But no hotels</td>\n",
       "      <td>Late Flight</td>\n",
       "      <td>negative</td>\n",
       "      <td>[UA, RIC, UA, ORD, UA, DEN, ALL, DELAYED, nonweather, issues, Way, go, youre, batting, !, But, hotels]</td>\n",
       "      <td>UA RIC UA ORD UA DEN ALL DELAYED nonweather issue Way go youre batting ! But hotel</td>\n",
       "    </tr>\n",
       "    <tr>\n",
       "      <th>2839</th>\n",
       "      <td>Southwest</td>\n",
       "      <td>@SouthwestAir my first flight ever and flight #4251 is already having technical issues. Faaaannntastic.😭</td>\n",
       "      <td>Bad Flight</td>\n",
       "      <td>negative</td>\n",
       "      <td>[first, ever, already, technical, issues, Faaaannntastic]</td>\n",
       "      <td>first ever already technical issue Faaaannntastic</td>\n",
       "    </tr>\n",
       "    <tr>\n",
       "      <th>2856</th>\n",
       "      <td>US Airways</td>\n",
       "      <td>@USAirways [Part 2 of 2] she tried calling cust serv and the system hung up and her. Twice. Are you having system issues? Please advise.</td>\n",
       "      <td>Customer Service Issue</td>\n",
       "      <td>negative</td>\n",
       "      <td>[Part, tried, calling, cust, serv, system, hung, Twice, Are, system, issues, Please, advise]</td>\n",
       "      <td>Part tried calling cust serv system hung Twice Are system issue Please advise</td>\n",
       "    </tr>\n",
       "    <tr>\n",
       "      <th>2914</th>\n",
       "      <td>US Airways</td>\n",
       "      <td>@USAirways they had to turn the seat cushions over and clean the area. Please explain this issue?</td>\n",
       "      <td>Flight Attendant Complaints</td>\n",
       "      <td>negative</td>\n",
       "      <td>[turn, seat, cushions, clean, area, Please, explain, issue]</td>\n",
       "      <td>turn seat cushion clean area Please explain issue</td>\n",
       "    </tr>\n",
       "    <tr>\n",
       "      <th>2983</th>\n",
       "      <td>Delta</td>\n",
       "      <td>@JetBlue rather than trying to resolve customer issues, only options offered were paying cash @ airport or write letter. #JustifyThisSupport</td>\n",
       "      <td>Customer Service Issue</td>\n",
       "      <td>negative</td>\n",
       "      <td>[rather, trying, resolve, customer, issues, options, offered, paying, cash, airport, write, letter, JustifyThisSupport]</td>\n",
       "      <td>rather trying resolve customer issue option offered paying cash airport write letter JustifyThisSupport</td>\n",
       "    </tr>\n",
       "    <tr>\n",
       "      <th>3044</th>\n",
       "      <td>Delta</td>\n",
       "      <td>@JetBlue How is travel bank credit issued by your company fraud - I acquired credit from family friend Charles Kravitz - see his account</td>\n",
       "      <td>Can't Tell</td>\n",
       "      <td>negative</td>\n",
       "      <td>[How, travel, bank, credit, issued, company, fraud, I, acquired, credit, family, friend, Charles, Kravitz, see, account]</td>\n",
       "      <td>How travel bank credit issued company fraud I acquired credit family friend Charles Kravitz see account</td>\n",
       "    </tr>\n",
       "    <tr>\n",
       "      <th>3117</th>\n",
       "      <td>US Airways</td>\n",
       "      <td>@USAirways what's the issue with flight 4420 from jax being delayed tonight?</td>\n",
       "      <td>Late Flight</td>\n",
       "      <td>negative</td>\n",
       "      <td>[what, 's, issue, jax, delayed, tonight]</td>\n",
       "      <td>what 's issue jax delayed tonight</td>\n",
       "    </tr>\n",
       "    <tr>\n",
       "      <th>3133</th>\n",
       "      <td>US Airways</td>\n",
       "      <td>@USAirways sorry, I meant flight 4420, which was supposed to depart at 5:00, now says 6:30. What is the issue?</td>\n",
       "      <td>Late Flight</td>\n",
       "      <td>negative</td>\n",
       "      <td>[sorry, I, meant, supposed, depart, :, says, :, What, issue]</td>\n",
       "      <td>sorry I meant supposed depart : say : What issue</td>\n",
       "    </tr>\n",
       "    <tr>\n",
       "      <th>3203</th>\n",
       "      <td>Delta</td>\n",
       "      <td>@JetBlue what's up w flt 4? Brothers fiancé sitting on board for 30mins w tech  issues.</td>\n",
       "      <td>Late Flight</td>\n",
       "      <td>negative</td>\n",
       "      <td>[what, 's, w, flt, Brothers, fiancé, sitting, board, mins, w, tech, issues]</td>\n",
       "      <td>what 's w flt Brothers fiancé sitting board min w tech issue</td>\n",
       "    </tr>\n",
       "  </tbody>\n",
       "</table>\n",
       "</div>"
      ],
      "text/plain": [
       "         airline  \\\n",
       "279   US Airways   \n",
       "303       United   \n",
       "326    Southwest   \n",
       "401       United   \n",
       "444       United   \n",
       "621       United   \n",
       "728       United   \n",
       "804       United   \n",
       "820       United   \n",
       "846   US Airways   \n",
       "929    Southwest   \n",
       "1017       Delta   \n",
       "1092       Delta   \n",
       "1098      United   \n",
       "1108      United   \n",
       "1118       Delta   \n",
       "1146      United   \n",
       "1212      United   \n",
       "1267      United   \n",
       "1295      United   \n",
       "1337  US Airways   \n",
       "1480  US Airways   \n",
       "1602  US Airways   \n",
       "1627      United   \n",
       "1678  US Airways   \n",
       "1853  US Airways   \n",
       "2181      United   \n",
       "2227  US Airways   \n",
       "2471  US Airways   \n",
       "2642      United   \n",
       "2663      United   \n",
       "2694      United   \n",
       "2839   Southwest   \n",
       "2856  US Airways   \n",
       "2914  US Airways   \n",
       "2983       Delta   \n",
       "3044       Delta   \n",
       "3117  US Airways   \n",
       "3133  US Airways   \n",
       "3203       Delta   \n",
       "\n",
       "                                                                                                                                                                text  \\\n",
       "279                         @USAirways issues are not with people who r nice or storm emails with wrong phone numbers auto rebooked flights to non connecting cities   \n",
       "303                             @united Second day &amp; attempt trying to leave IAD &amp; I'm on another plane delayed for mechanical issues. Over an hour delayed!   \n",
       "326                             @SouthwestAir how about when there are Cancelled Flightlations you just have a link to rebook like you did for initial storm issues?   \n",
       "401                                     @united she has crossed 4 prior times with other carriers and no issue. Karen was rude, untrained and unhelpful I also spoke   \n",
       "444                                            @united thanks kp but luckily my transfer has maintenance issues and is still delayed so I didn't miss my transfer...   \n",
       "621                                @united flight 86 LAX-IAD, back rows NOT CLEANED prior to boarding. How gross is that to find used tissues in your seat?  Please.   \n",
       "728                                                       @united JT the issue is with missed connections early gate closings and zero concern from customer service   \n",
       "804                     @united stuck here in IAH waiting on flight 253 to Honolulu for 7 hours due to maintenance issues. Could we have gotten a new plane!?!? Fail   \n",
       "820                           @united If you have had any issues with  United Airlines PLEASE retweet. Paid for a full fight ticket and was given a standby instead.   \n",
       "846                                @USAirways And really, it's a middle initial versus middle name. All else the same. Not spending my time on your computer issues.   \n",
       "929   @SouthwestAir understand weather is an issue but on time Cancelled Flighted reinstated Cancelled Flighted with hardly any updates and doing nothing for me= :(   \n",
       "1017                                                                                                        @JetBlue ticket issued whilst delivering your customers.   \n",
       "1092                                                  @JetBlue Are there issues with the mobile boarding passes? My app keeps crashing when I try accessing. Thanks!   \n",
       "1098                     @united mechanical issues causes delay and connecting plane at ORD only needed to wait 10 min for them. Refused and left early instead. Wtf   \n",
       "1108                                                           @united I've been doing this for 15 years and I've never had this many issues with any other airline.   \n",
       "1118          @JetBlue flight was Cancelled Flighted. Do I need to file a claim for the $50 credit I'm entitled to per yr bill of rights, or will it just be issued?   \n",
       "1146                                                    @united which now has maintenance issues with an undetermined amount of time until the mechanics even arrive   \n",
       "1212                                           @united so you told me to go, knowing what the issue was, only for me to go there and find out that you won’t fix it?   \n",
       "1267                                                                @united so who does handle bag issues? And why wouldn't you put me onto them in the first place?   \n",
       "1295                                              @united again, you said to go take the time to go there, knowing what the issue was, and knowing you won’t fix it.   \n",
       "1337                                    @USAirways I absolutely knew you would try to blame weather to deny us vouchers in Phoenix. Totally false, was a crew issue.   \n",
       "1480                                                    @USAirways gate agents are now working with everyone to resolve connecting flight issues which is my concern   \n",
       "1602                                                             ,@USAirways 2nd time this occurred in 3 weeks. I'm not patient. I have no choice.  #Antitrust issue   \n",
       "1627                    @united  delayed about 8 hours because of missed connections due to mechanical issues on 1st flight. rebooked, but please call me 9148445695   \n",
       "1678                                                                  @USAirways @AmericanAir 90 min delay thanks to \"maintenance issues\". Thanks for wasting a day.   \n",
       "1853                      @USAirways stranded in Philly- #Starving and can't get a meal voucher even though your plane had mechanical issue /  next flight in 10 hrs   \n",
       "2181                  @united just informed you don't reimburse for issues due to weather. this is why your flights keep getting Cancelled Flightled--Thor hates you   \n",
       "2227                     @USAirways that's understandable, my issue is with creating a new flight without the personnel to do it...I changed my plans to accommodate   \n",
       "2471                                 @USAirways @AmericanAir hey guys, due to some horrible customer service issues is there any way I can get a checked bag credit?   \n",
       "2642                    @united my coworker that had the same conflict as me with the hotel issue trying to share posted on their facebook page and they erased it!!   \n",
       "2663                                           @united its not the way to treat your customers we had a lot of issues and it was not worth our headache we went thru   \n",
       "2694                @united UA5029 from RIC, UA507 from ORD, &amp; UA423 from DEN -ALL DELAYED for non-weather issues. Way to go, youre batting 1.000! But no hotels   \n",
       "2839                                                        @SouthwestAir my first flight ever and flight #4251 is already having technical issues. Faaaannntastic.😭   \n",
       "2856                        @USAirways [Part 2 of 2] she tried calling cust serv and the system hung up and her. Twice. Are you having system issues? Please advise.   \n",
       "2914                                                               @USAirways they had to turn the seat cushions over and clean the area. Please explain this issue?   \n",
       "2983                    @JetBlue rather than trying to resolve customer issues, only options offered were paying cash @ airport or write letter. #JustifyThisSupport   \n",
       "3044                        @JetBlue How is travel bank credit issued by your company fraud - I acquired credit from family friend Charles Kravitz - see his account   \n",
       "3117                                                                                    @USAirways what's the issue with flight 4420 from jax being delayed tonight?   \n",
       "3133                                                  @USAirways sorry, I meant flight 4420, which was supposed to depart at 5:00, now says 6:30. What is the issue?   \n",
       "3203                                                                         @JetBlue what's up w flt 4? Brothers fiancé sitting on board for 30mins w tech  issues.   \n",
       "\n",
       "                   negativereason sentiment  \\\n",
       "279        Customer Service Issue  negative   \n",
       "303                   Late Flight  negative   \n",
       "326              Cancelled Flight  negative   \n",
       "401   Flight Attendant Complaints  negative   \n",
       "444                   Late Flight  negative   \n",
       "621                    Bad Flight  negative   \n",
       "728        Customer Service Issue  negative   \n",
       "804                   Late Flight  negative   \n",
       "820       Flight Booking Problems  negative   \n",
       "846        Customer Service Issue  negative   \n",
       "929              Cancelled Flight  negative   \n",
       "1017                   Can't Tell  negative   \n",
       "1092       Customer Service Issue  negative   \n",
       "1098                   Can't Tell  negative   \n",
       "1108                  Late Flight  negative   \n",
       "1118             Cancelled Flight  negative   \n",
       "1146                   Can't Tell  negative   \n",
       "1212       Customer Service Issue  negative   \n",
       "1267                 Lost Luggage  negative   \n",
       "1295                   Can't Tell  negative   \n",
       "1337  Flight Attendant Complaints  negative   \n",
       "1480  Flight Attendant Complaints  negative   \n",
       "1602                   Can't Tell  negative   \n",
       "1627                  Late Flight  negative   \n",
       "1678                  Late Flight  negative   \n",
       "1853                  Late Flight  negative   \n",
       "2181             Cancelled Flight  negative   \n",
       "2227             Cancelled Flight  negative   \n",
       "2471       Customer Service Issue  negative   \n",
       "2642                   Can't Tell  negative   \n",
       "2663       Customer Service Issue  negative   \n",
       "2694                  Late Flight  negative   \n",
       "2839                   Bad Flight  negative   \n",
       "2856       Customer Service Issue  negative   \n",
       "2914  Flight Attendant Complaints  negative   \n",
       "2983       Customer Service Issue  negative   \n",
       "3044                   Can't Tell  negative   \n",
       "3117                  Late Flight  negative   \n",
       "3133                  Late Flight  negative   \n",
       "3203                  Late Flight  negative   \n",
       "\n",
       "                                                                                                                    text_clean  \\\n",
       "279                   [issues, people, r, nice, storm, emails, wrong, phone, numbers, auto, rebooked, non, connecting, cities]   \n",
       "303     [Second, day, attempt, trying, leave, IAD, I, 'm, another, plane, delayed, mechanical, issues, Over, hour, delayed, !]   \n",
       "326                                                     [Cancelled, Flightlations, link, rebook, like, initial, storm, issues]   \n",
       "401                                [crossed, prior, times, carriers, issue, Karen, rude, untrained, unhelpful, I, also, spoke]   \n",
       "444                                    [thanks, kp, luckily, transfer, maintenance, issues, still, delayed, I, miss, transfer]   \n",
       "621                         [LAXIAD, back, rows, NOT, CLEANED, prior, boarding, How, gross, find, used, tissues, seat, Please]   \n",
       "728                                  [JT, issue, missed, connections, early, gate, closings, zero, concern, customer, service]   \n",
       "804                    [stuck, IAH, waiting, Honolulu, hours, due, maintenance, issues, Could, gotten, new, plane, !, !, Fail]   \n",
       "820                        [If, issues, United, Airlines, PLEASE, retweet, Paid, full, fight, ticket, given, standby, instead]   \n",
       "846                     [And, really, middle, initial, versus, middle, name, All, else, Not, spending, time, computer, issues]   \n",
       "929    [understand, weather, issue, time, Cancelled, Flighted, reinstated, Cancelled, Flighted, hardly, updates, nothing, :_(]   \n",
       "1017                                                                           [ticket, issued, whilst, delivering, customers]   \n",
       "1092                           [Are, issues, mobile, boarding, passes, My, app, keeps, crashing, I, try, accessing, Thanks, !]   \n",
       "1098     [mechanical, issues, causes, delay, connecting, plane, ORD, needed, wait, minute, Refused, left, early, instead, Wtf]   \n",
       "1108                                                                                  [I, ', years, I, ', never, many, issues]   \n",
       "1118                   [Cancelled, Flighted, Do, I, need, file, claim, credit, I, 'm, entitled, per, yr, bill, rights, issued]   \n",
       "1146                                                [maintenance, issues, undetermined, amount, time, mechanics, even, arrive]   \n",
       "1212                                                                      [told, go, knowing, issue, go, find, won, ’, t, fix]   \n",
       "1267                                                                       [handle, bag, issues, And, put, onto, first, place]   \n",
       "1295                                                       [said, go, take, time, go, knowing, issue, knowing, won, ’, t, fix]   \n",
       "1337               [I, absolutely, knew, would, try, blame, weather, deny, us, vouchers, Phoenix, Totally, false, crew, issue]   \n",
       "1480                                                   [gate, agents, working, everyone, resolve, connecting, issues, concern]   \n",
       "1602                                                  [nd, time, occurred, weeks, I, 'm, patient, I, choice, Antitrust, issue]   \n",
       "1627                                [delayed, hours, missed, connections, due, mechanical, issues, st, rebooked, please, call]   \n",
       "1678                                                        [minute, delay, thanks, maintenance, issues, Thanks, wasting, day]   \n",
       "1853             [stranded, Philly, Starving, ca, n't, get, meal, voucher, even, though, plane, mechanical, issue, next, hour]   \n",
       "2181                               [informed, reimburse, issues, due, weather, keep, getting, Cancelled, FlightledThor, hates]   \n",
       "2227                    [that, 's, understandable, issue, creating, new, without, personnel, itI, changed, plans, accommodate]   \n",
       "2471                                  [hey, guys, due, horrible, customer, service, issues, way, I, get, checked, bag, credit]   \n",
       "2642                               [coworker, conflict, hotel, issue, trying, share, posted, facebook, page, erased, it, !, !]   \n",
       "2663                                                         [way, treat, customers, lot, issues, worth, headache, went, thru]   \n",
       "2694                    [UA, RIC, UA, ORD, UA, DEN, ALL, DELAYED, nonweather, issues, Way, go, youre, batting, !, But, hotels]   \n",
       "2839                                                                 [first, ever, already, technical, issues, Faaaannntastic]   \n",
       "2856                              [Part, tried, calling, cust, serv, system, hung, Twice, Are, system, issues, Please, advise]   \n",
       "2914                                                               [turn, seat, cushions, clean, area, Please, explain, issue]   \n",
       "2983   [rather, trying, resolve, customer, issues, options, offered, paying, cash, airport, write, letter, JustifyThisSupport]   \n",
       "3044  [How, travel, bank, credit, issued, company, fraud, I, acquired, credit, family, friend, Charles, Kravitz, see, account]   \n",
       "3117                                                                                  [what, 's, issue, jax, delayed, tonight]   \n",
       "3133                                                              [sorry, I, meant, supposed, depart, :, says, :, What, issue]   \n",
       "3203                                               [what, 's, w, flt, Brothers, fiancé, sitting, board, mins, w, tech, issues]   \n",
       "\n",
       "                                                                                                  text_clean_2  \n",
       "279                       issue people r nice storm email wrong phone number auto rebooked non connecting city  \n",
       "303        Second day attempt trying leave IAD I 'm another plane delayed mechanical issue Over hour delayed !  \n",
       "326                                               Cancelled Flightlations link rebook like initial storm issue  \n",
       "401                               crossed prior time carrier issue Karen rude untrained unhelpful I also spoke  \n",
       "444                                 thanks kp luckily transfer maintenance issue still delayed I miss transfer  \n",
       "621                          LAXIAD back row NOT CLEANED prior boarding How gross find used tissue seat Please  \n",
       "728                                JT issue missed connection early gate closing zero concern customer service  \n",
       "804                      stuck IAH waiting Honolulu hour due maintenance issue Could gotten new plane ! ! Fail  \n",
       "820                       If issue United Airlines PLEASE retweet Paid full fight ticket given standby instead  \n",
       "846                     And really middle initial versus middle name All else Not spending time computer issue  \n",
       "929   understand weather issue time Cancelled Flighted reinstated Cancelled Flighted hardly update nothing :_(  \n",
       "1017                                                                  ticket issued whilst delivering customer  \n",
       "1092                              Are issue mobile boarding pass My app keep crashing I try accessing Thanks !  \n",
       "1098       mechanical issue cause delay connecting plane ORD needed wait minute Refused left early instead Wtf  \n",
       "1108                                                                             I ' year I ' never many issue  \n",
       "1118                     Cancelled Flighted Do I need file claim credit I 'm entitled per yr bill right issued  \n",
       "1146                                           maintenance issue undetermined amount time mechanic even arrive  \n",
       "1212                                                                 told go knowing issue go find won ’ t fix  \n",
       "1267                                                                 handle bag issue And put onto first place  \n",
       "1295                                                    said go take time go knowing issue knowing won ’ t fix  \n",
       "1337                 I absolutely knew would try blame weather deny u voucher Phoenix Totally false crew issue  \n",
       "1480                                              gate agent working everyone resolve connecting issue concern  \n",
       "1602                                               nd time occurred week I 'm patient I choice Antitrust issue  \n",
       "1627                               delayed hour missed connection due mechanical issue st rebooked please call  \n",
       "1678                                                  minute delay thanks maintenance issue Thanks wasting day  \n",
       "1853             stranded Philly Starving ca n't get meal voucher even though plane mechanical issue next hour  \n",
       "2181                            informed reimburse issue due weather keep getting Cancelled FlightledThor hate  \n",
       "2227                  that 's understandable issue creating new without personnel itI changed plan accommodate  \n",
       "2471                                  hey guy due horrible customer service issue way I get checked bag credit  \n",
       "2642                             coworker conflict hotel issue trying share posted facebook page erased it ! !  \n",
       "2663                                                     way treat customer lot issue worth headache went thru  \n",
       "2694                        UA RIC UA ORD UA DEN ALL DELAYED nonweather issue Way go youre batting ! But hotel  \n",
       "2839                                                         first ever already technical issue Faaaannntastic  \n",
       "2856                             Part tried calling cust serv system hung Twice Are system issue Please advise  \n",
       "2914                                                         turn seat cushion clean area Please explain issue  \n",
       "2983   rather trying resolve customer issue option offered paying cash airport write letter JustifyThisSupport  \n",
       "3044   How travel bank credit issued company fraud I acquired credit family friend Charles Kravitz see account  \n",
       "3117                                                                         what 's issue jax delayed tonight  \n",
       "3133                                                          sorry I meant supposed depart : say : What issue  \n",
       "3203                                              what 's w flt Brothers fiancé sitting board min w tech issue  "
      ]
     },
     "execution_count": 1606,
     "metadata": {},
     "output_type": "execute_result"
    }
   ],
   "source": [
    "df2[(df2['text'].str.contains('issue')) & (df2['sentiment']=='negative')].head(40)"
   ]
  },
  {
   "cell_type": "code",
   "execution_count": null,
   "id": "340243af",
   "metadata": {},
   "outputs": [],
   "source": []
  },
  {
   "cell_type": "code",
   "execution_count": 1456,
   "id": "e3e9dd1a",
   "metadata": {},
   "outputs": [],
   "source": [
    "import spacy\n",
    "from spacy import displacy\n",
    "nlp = spacy.load('en_core_web_sm')"
   ]
  },
  {
   "cell_type": "code",
   "execution_count": 1457,
   "id": "681b3363",
   "metadata": {},
   "outputs": [],
   "source": [
    "sent = \"Today we are quietly playing in Los Angeles jazz music.\""
   ]
  },
  {
   "cell_type": "code",
   "execution_count": 1458,
   "id": "791237b8",
   "metadata": {},
   "outputs": [],
   "source": [
    "doc = nlp(sent)"
   ]
  },
  {
   "cell_type": "code",
   "execution_count": 1461,
   "id": "4c4790c7",
   "metadata": {},
   "outputs": [
    {
     "name": "stdout",
     "output_type": "stream",
     "text": [
      "Today DATE\n",
      "Los Angeles GPE\n"
     ]
    }
   ],
   "source": [
    "for ent in doc.ents:\n",
    "    print(ent.text, ent.label_)"
   ]
  },
  {
   "cell_type": "code",
   "execution_count": 1462,
   "id": "f1ab3414",
   "metadata": {},
   "outputs": [],
   "source": [
    "from spacy.lang.en.stop_words import STOP_WORDS"
   ]
  },
  {
   "cell_type": "code",
   "execution_count": 1463,
   "id": "af706edd",
   "metadata": {},
   "outputs": [],
   "source": [
    "stopwords = list(STOP_WORDS)"
   ]
  },
  {
   "cell_type": "code",
   "execution_count": null,
   "id": "983bb76f",
   "metadata": {},
   "outputs": [],
   "source": []
  },
  {
   "cell_type": "markdown",
   "id": "9cd087c7",
   "metadata": {},
   "source": [
    "## Word2Vec"
   ]
  },
  {
   "cell_type": "code",
   "execution_count": 666,
   "id": "271ab91e",
   "metadata": {},
   "outputs": [
    {
     "name": "stdout",
     "output_type": "stream",
     "text": [
      "Collecting gensim\n",
      "  Downloading gensim-4.1.2-cp38-cp38-macosx_10_9_x86_64.whl (24.0 MB)\n",
      "\u001b[K     |████████████████████████████████| 24.0 MB 30.4 MB/s eta 0:00:01\n",
      "\u001b[?25hRequirement already satisfied: scipy>=0.18.1 in /Applications/anaconda3/lib/python3.8/site-packages (from gensim) (1.6.2)\n",
      "Requirement already satisfied: numpy>=1.17.0 in /Applications/anaconda3/lib/python3.8/site-packages (from gensim) (1.20.1)\n",
      "Collecting smart-open>=1.8.1\n",
      "  Downloading smart_open-5.2.1-py3-none-any.whl (58 kB)\n",
      "\u001b[K     |████████████████████████████████| 58 kB 25.6 MB/s eta 0:00:01\n",
      "\u001b[?25hInstalling collected packages: smart-open, gensim\n",
      "Successfully installed gensim-4.1.2 smart-open-5.2.1\n"
     ]
    }
   ],
   "source": [
    "!pip install gensim"
   ]
  },
  {
   "cell_type": "code",
   "execution_count": 667,
   "id": "38f686e4",
   "metadata": {},
   "outputs": [],
   "source": [
    "from gensim.models import Word2Vec"
   ]
  },
  {
   "cell_type": "code",
   "execution_count": 1451,
   "id": "67965f01",
   "metadata": {},
   "outputs": [],
   "source": [
    "w2v = df5.text_clean_3.apply(tokenize).to_list()\n",
    "\n",
    "word2vec = Word2Vec(sentences = w2v, vector_size = 100, min_count = 5)"
   ]
  },
  {
   "cell_type": "code",
   "execution_count": 1452,
   "id": "0f634030",
   "metadata": {},
   "outputs": [
    {
     "data": {
      "text/plain": [
       "[['new',\n",
       "  'ceo',\n",
       "  'seek',\n",
       "  'right',\n",
       "  'balance',\n",
       "  'please',\n",
       "  'passenger',\n",
       "  'wall',\n",
       "  'greenfield',\n",
       "  'daily',\n",
       "  'reporter'],\n",
       " ['really', 'getting', 'nerve', 'nothappy'],\n",
       " ['yes',\n",
       "  'waited',\n",
       "  'line',\n",
       "  'almost',\n",
       "  'hour',\n",
       "  'passenger',\n",
       "  'left',\n",
       "  'wanting',\n",
       "  'wait',\n",
       "  'past']]"
      ]
     },
     "execution_count": 1452,
     "metadata": {},
     "output_type": "execute_result"
    }
   ],
   "source": [
    "w2v[:3]"
   ]
  },
  {
   "cell_type": "code",
   "execution_count": 1614,
   "id": "19390d09",
   "metadata": {},
   "outputs": [
    {
     "data": {
      "text/plain": [
       "[('ask', 0.9993498921394348),\n",
       " ('le', 0.9993187785148621),\n",
       " ('oh', 0.9993131756782532),\n",
       " ('jetblue', 0.9992700815200806),\n",
       " ('tweet', 0.9992366433143616),\n",
       " ('direct', 0.9992278218269348),\n",
       " ('food', 0.9992222785949707),\n",
       " ('hear', 0.9992200136184692),\n",
       " ('nice', 0.9992064237594604),\n",
       " ('start', 0.999203622341156)]"
      ]
     },
     "execution_count": 1614,
     "metadata": {},
     "output_type": "execute_result"
    }
   ],
   "source": [
    "word2vec.wv.most_similar('hate')"
   ]
  },
  {
   "cell_type": "code",
   "execution_count": 1603,
   "id": "e52aecbf",
   "metadata": {},
   "outputs": [
    {
     "data": {
      "text/plain": [
       "[('dfw', 0.998944878578186),\n",
       " ('leave', 0.9989339113235474),\n",
       " ('pm', 0.998862087726593),\n",
       " ('departure', 0.9988583922386169),\n",
       " ('take', 0.9987350106239319),\n",
       " ('leaving', 0.9986701011657715),\n",
       " ('flt', 0.9986398816108704),\n",
       " ('phl', 0.9985857605934143),\n",
       " ('stuck', 0.9985722899436951),\n",
       " ('arrive', 0.9985653162002563)]"
      ]
     },
     "execution_count": 1603,
     "metadata": {},
     "output_type": "execute_result"
    }
   ],
   "source": [
    "word2vec.wv.most_similar('going')"
   ]
  },
  {
   "cell_type": "code",
   "execution_count": 1454,
   "id": "78091f34",
   "metadata": {},
   "outputs": [
    {
     "data": {
      "text/plain": [
       "[('ever', 0.98089998960495),\n",
       " ('worst', 0.9762243032455444),\n",
       " ('experience', 0.9579900503158569),\n",
       " ('service', 0.9493043422698975),\n",
       " ('terrible', 0.9295005798339844),\n",
       " ('experienced', 0.9280650019645691),\n",
       " ('great', 0.915199875831604),\n",
       " ('flying', 0.9134176969528198),\n",
       " ('never', 0.9091744422912598),\n",
       " ('poor', 0.9089339375495911)]"
      ]
     },
     "execution_count": 1454,
     "metadata": {},
     "output_type": "execute_result"
    }
   ],
   "source": [
    "word2vec.wv.most_similar('customer')"
   ]
  },
  {
   "cell_type": "code",
   "execution_count": 1607,
   "id": "18f8f794",
   "metadata": {},
   "outputs": [
    {
     "data": {
      "text/plain": [
       "[('clt', 0.9985756278038025),\n",
       " ('bc', 0.9984889626502991),\n",
       " ('ewr', 0.9984605312347412),\n",
       " ('update', 0.9984589219093323),\n",
       " ('pilot', 0.9983746409416199),\n",
       " ('yet', 0.9983615875244141),\n",
       " ('flt', 0.9983411431312561),\n",
       " ('boston', 0.9983382225036621),\n",
       " ('computer', 0.9983375668525696),\n",
       " ('houston', 0.9983298778533936)]"
      ]
     },
     "execution_count": 1607,
     "metadata": {},
     "output_type": "execute_result"
    }
   ],
   "source": [
    "word2vec.wv.most_similar('issue')"
   ]
  },
  {
   "cell_type": "code",
   "execution_count": 1613,
   "id": "2b0dada8",
   "metadata": {},
   "outputs": [
    {
     "data": {
      "text/plain": [
       "[('tomorrow', 0.9971962571144104),\n",
       " ('day', 0.9968511462211609),\n",
       " ('rebooked', 0.9966753125190735),\n",
       " ('going', 0.9966398477554321),\n",
       " ('rebook', 0.9965564608573914),\n",
       " ('dfw', 0.9965444207191467),\n",
       " ('cancelled', 0.9964832663536072),\n",
       " ('pm', 0.9964529871940613),\n",
       " ('tonight', 0.9964100122451782),\n",
       " ('take', 0.9963696599006653)]"
      ]
     },
     "execution_count": 1613,
     "metadata": {},
     "output_type": "execute_result"
    }
   ],
   "source": [
    "word2vec.wv.most_similar('home')"
   ]
  },
  {
   "cell_type": "code",
   "execution_count": 827,
   "id": "1bc5b051",
   "metadata": {},
   "outputs": [
    {
     "data": {
      "image/png": "[encoded data removed]",
      "text/plain": [
       "<Figure size 720x432 with 2 Axes>"
      ]
     },
     "metadata": {},
     "output_type": "display_data"
    }
   ],
   "source": [
    "'''\n",
    "import seaborn as sns\n",
    "\n",
    "ax = sns.heatmap(vader_confusion_matrix, annot=True, cmap='Blues', fmt='.2%')\n",
    "ax.xaxis.set_ticklabels(['Positive', 'Negative', 'Neutral'])\n",
    "ax.yaxis.set_ticklabels(['Positive', 'Negative', 'Neutral'])\n",
    "\n",
    "ax.set_xlabel('\\nPredicted Values')\n",
    "ax.set_ylabel('Actual Values ');\n",
    "'''\n"
   ]
  },
  {
   "cell_type": "code",
   "execution_count": null,
   "id": "7dde4bbc",
   "metadata": {},
   "outputs": [],
   "source": []
  },
  {
   "cell_type": "code",
   "execution_count": null,
   "id": "11bcb7a4",
   "metadata": {},
   "outputs": [],
   "source": [
    "#TOP TWEETS WITH NEGATIVE SENTIMENT\n",
    "for index,row in df_neg.sort_values('score', ascending=True).iterrows():\n",
    "    if len(row['tweet'].split(\" \"))>1:\n",
    "        print(row['tweet'], row['score'])"
   ]
  }
 ],
 "metadata": {
  "kernelspec": {
   "display_name": "Python 3",
   "language": "python",
   "name": "python3"
  },
  "language_info": {
   "codemirror_mode": {
    "name": "ipython",
    "version": 3
   },
   "file_extension": ".py",
   "mimetype": "text/x-python",
   "name": "python",
   "nbconvert_exporter": "python",
   "pygments_lexer": "ipython3",
   "version": "3.8.8"
  }
 },
 "nbformat": 4,
 "nbformat_minor": 5
}
